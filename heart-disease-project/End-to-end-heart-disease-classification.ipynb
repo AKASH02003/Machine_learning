{
 "cells": [
  {
   "cell_type": "markdown",
   "id": "c5a0ff0c-ce1a-4296-8a97-2dea9cd8f903",
   "metadata": {
    "tags": []
   },
   "source": [
    "# Predicting Heart Disease using Machine Learning \n",
    "\n",
    "This notebook looks into various Python-based machine learning and data science libraries in an attempt to build\n",
    "a machine learning model capable of predicting whether or not someone has heart disease based on their medical reports(attributes).\n",
    "\n",
    "The steps involved in building this classification model are:\n",
    "\n",
    "1. Problem definition \n",
    "2. Data\n",
    "3. Evaluation\n",
    "4. Features\n",
    "5. Modelling\n",
    "6. Experimentation\n",
    "\n",
    "## 1. Problem Statement\n",
    "\n",
    "In a statement:\n",
    "> Given clinical parameters about the patient, can we predict whether they have heart disease or not?\n",
    "\n",
    "## 2. Data\n",
    "\n",
    "The Original data came from the cleavland data from UCI Machine Learning Repository.https://archive.ics.uci.edu/dataset/45/heart+disease\n",
    "\n",
    "There is also a version of it available on Kaggle. https://www.kaggle.com/datasets/sumaiyatasmeem/heart-disease-classification-dataset\n",
    "\n",
    "## 3. Evaluation\n",
    "\n",
    "> If we can reach 95% accuracy at predicting whether the patients has heart disease or not during the proof of concept,we'll pursue the project.\n",
    "\n",
    "## 4. Features\n",
    "\n",
    "This is where you'll get different information about each of the features in your data. It can be done by doing research(such as looking at the above links) or by talking to a subject matter expert(someone who knows about the dataset).\n",
    "\n",
    "\n",
    "**create data dictionary**\n",
    "\n",
    "Data Dictionary\n",
    "\n",
    "1. age: age in years.\n",
    "\n",
    "2. sex: ( 1 = male; 0 = female)\n",
    "\n",
    "3. cp- Chest-pain type\n",
    " * 0 = Typical angina: chest pain related to decrease in blood supply to the heart \n",
    " * 1 = Atypical angina: chest pain not related to heart\n",
    " * 2 = Non—anginal pain: typically esophageal spasms (non heart related)\n",
    " * 3 = Asymptotic: chest: chest pain not showing signs of disease\n",
    "\n",
    "4. trestbps- Resting Blood Pressure(in mmHg (unit) on admission to the hospital) anything above 130-140 is typically cause for concern.\n",
    "\n",
    "5. chol- Serum Cholestrol in mg/dl\n",
    "* serum = LDL + HDL + .2* triglycerides\n",
    "* above 200 is cause for concern\n",
    "\n",
    "6. fbs- (Fasting Blood Sugar > 120mg/dl) (1=true;0=false )\n",
    "* \">126\" mg/dL signals diabetes\n",
    "\n",
    "7. restecg-  resting electrocardiographic(ECG) results\n",
    "* 0 = normal(Nothing to note)\n",
    "* 1 = having ST-T wave abnormality\n",
    "    * can range from mild symptoms to severe problems\n",
    "    * signals non-normal heart beat\n",
    "* 2 = Possible or definite left ventricular hyperthrophy\n",
    "    * Enlarged heart's main pumping chamber\n",
    "\n",
    "8. thalach- Max heart rate achieved\n",
    "\n",
    "9. exang- Exercise induced angina (1 = yes; 0 = no)\n",
    "\n",
    "10. oldpeak- ST(segment) depression induced by exercise relative to rest looks at stress of heart during excercise unhealthy heart will stress more\n",
    "\n",
    "11. slope- Slope of the peak exercise ST segment \n",
    " * 0 = Upsloping: better heart rate with excercise (uncommon) \n",
    " * 1 = Flatsloping: minimal change (typical healthy heart) \n",
    " * 2 = Downsloping: signs of unhealthy heart\n",
    "\n",
    "12. ca- number of major vessels (0–3) colored by flourosopy \n",
    "  * Coloured vessel means the doctor can see the blood passing through\n",
    "  * The more blood movement the better (no clots)\n",
    "\n",
    "13. thal : thalium stress result\n",
    "* 1,3 = normal \n",
    "* 6 = fixed defect: used to be defect but ok now\n",
    "* 7 = reversible defect: no proper blood movement when excercising\n",
    "\n",
    "14. target : have disease or not (1=yes; 0=no) (= the predicted attribute)\n",
    "\n"
   ]
  },
  {
   "cell_type": "markdown",
   "id": "06e85d98-0996-497a-91d0-226dd06a4546",
   "metadata": {},
   "source": [
    "## Preparing the tools\n",
    "\n",
    "Tools like pandas,numpy and matplotlib are used for data analysis and manipulation"
   ]
  },
  {
   "cell_type": "code",
   "execution_count": 1,
   "id": "9f4c42cb-8ac3-4243-8dab-ceafa6d8960f",
   "metadata": {},
   "outputs": [],
   "source": [
    "# Import all the needed tools\n",
    "\n",
    "#Regular EDA(Exploratory data analysis) and plotting libraries \n",
    "import pandas as pd\n",
    "import numpy as np\n",
    "import matplotlib.pyplot as plt\n",
    "import seaborn as sns\n",
    "\n",
    "# we want our plots to appear inside the notebook\n",
    "%matplotlib inline\n",
    "\n",
    "# Model from Scikit-Learn \n",
    "from sklearn.ensemble import RandomForestClassifier\n",
    "from sklearn.linear_model import LogisticRegression\n",
    "from sklearn.neighbors import KNeighborsClassifier\n",
    "\n",
    "\n",
    "# Model Evaluation\n",
    "from sklearn.model_selection import train_test_split,cross_val_score\n",
    "from sklearn.model_selection import GridSearchCV,RandomizedSearchCV\n",
    "from sklearn.metrics import confusion_matrix,classification_report\n",
    "from sklearn.metrics import precision_score,f1_score,recall_score\n",
    "from sklearn.metrics import RocCurveDisplay"
   ]
  },
  {
   "cell_type": "markdown",
   "id": "c64142ad-27c6-4424-a0e7-061a26621cfd",
   "metadata": {},
   "source": [
    "## Load Data"
   ]
  },
  {
   "cell_type": "code",
   "execution_count": 2,
   "id": "bc62812c-609d-4bc1-af6a-90cf4b5f885b",
   "metadata": {},
   "outputs": [
    {
     "data": {
      "text/html": [
       "<div>\n",
       "<style scoped>\n",
       "    .dataframe tbody tr th:only-of-type {\n",
       "        vertical-align: middle;\n",
       "    }\n",
       "\n",
       "    .dataframe tbody tr th {\n",
       "        vertical-align: top;\n",
       "    }\n",
       "\n",
       "    .dataframe thead th {\n",
       "        text-align: right;\n",
       "    }\n",
       "</style>\n",
       "<table border=\"1\" class=\"dataframe\">\n",
       "  <thead>\n",
       "    <tr style=\"text-align: right;\">\n",
       "      <th></th>\n",
       "      <th>age</th>\n",
       "      <th>sex</th>\n",
       "      <th>cp</th>\n",
       "      <th>trestbps</th>\n",
       "      <th>chol</th>\n",
       "      <th>fbs</th>\n",
       "      <th>restecg</th>\n",
       "      <th>thalach</th>\n",
       "      <th>exang</th>\n",
       "      <th>oldpeak</th>\n",
       "      <th>slope</th>\n",
       "      <th>ca</th>\n",
       "      <th>thal</th>\n",
       "      <th>target</th>\n",
       "    </tr>\n",
       "  </thead>\n",
       "  <tbody>\n",
       "    <tr>\n",
       "      <th>0</th>\n",
       "      <td>63</td>\n",
       "      <td>1</td>\n",
       "      <td>3</td>\n",
       "      <td>145</td>\n",
       "      <td>233</td>\n",
       "      <td>1</td>\n",
       "      <td>0</td>\n",
       "      <td>150</td>\n",
       "      <td>0</td>\n",
       "      <td>2.3</td>\n",
       "      <td>0</td>\n",
       "      <td>0</td>\n",
       "      <td>1</td>\n",
       "      <td>1</td>\n",
       "    </tr>\n",
       "    <tr>\n",
       "      <th>1</th>\n",
       "      <td>37</td>\n",
       "      <td>1</td>\n",
       "      <td>2</td>\n",
       "      <td>130</td>\n",
       "      <td>250</td>\n",
       "      <td>0</td>\n",
       "      <td>1</td>\n",
       "      <td>187</td>\n",
       "      <td>0</td>\n",
       "      <td>3.5</td>\n",
       "      <td>0</td>\n",
       "      <td>0</td>\n",
       "      <td>2</td>\n",
       "      <td>1</td>\n",
       "    </tr>\n",
       "    <tr>\n",
       "      <th>2</th>\n",
       "      <td>41</td>\n",
       "      <td>0</td>\n",
       "      <td>1</td>\n",
       "      <td>130</td>\n",
       "      <td>204</td>\n",
       "      <td>0</td>\n",
       "      <td>0</td>\n",
       "      <td>172</td>\n",
       "      <td>0</td>\n",
       "      <td>1.4</td>\n",
       "      <td>2</td>\n",
       "      <td>0</td>\n",
       "      <td>2</td>\n",
       "      <td>1</td>\n",
       "    </tr>\n",
       "    <tr>\n",
       "      <th>3</th>\n",
       "      <td>56</td>\n",
       "      <td>1</td>\n",
       "      <td>1</td>\n",
       "      <td>120</td>\n",
       "      <td>236</td>\n",
       "      <td>0</td>\n",
       "      <td>1</td>\n",
       "      <td>178</td>\n",
       "      <td>0</td>\n",
       "      <td>0.8</td>\n",
       "      <td>2</td>\n",
       "      <td>0</td>\n",
       "      <td>2</td>\n",
       "      <td>1</td>\n",
       "    </tr>\n",
       "    <tr>\n",
       "      <th>4</th>\n",
       "      <td>57</td>\n",
       "      <td>0</td>\n",
       "      <td>0</td>\n",
       "      <td>120</td>\n",
       "      <td>354</td>\n",
       "      <td>0</td>\n",
       "      <td>1</td>\n",
       "      <td>163</td>\n",
       "      <td>1</td>\n",
       "      <td>0.6</td>\n",
       "      <td>2</td>\n",
       "      <td>0</td>\n",
       "      <td>2</td>\n",
       "      <td>1</td>\n",
       "    </tr>\n",
       "  </tbody>\n",
       "</table>\n",
       "</div>"
      ],
      "text/plain": [
       "   age  sex  cp  trestbps  chol  fbs  restecg  thalach  exang  oldpeak  slope  \\\n",
       "0   63    1   3       145   233    1        0      150      0      2.3      0   \n",
       "1   37    1   2       130   250    0        1      187      0      3.5      0   \n",
       "2   41    0   1       130   204    0        0      172      0      1.4      2   \n",
       "3   56    1   1       120   236    0        1      178      0      0.8      2   \n",
       "4   57    0   0       120   354    0        1      163      1      0.6      2   \n",
       "\n",
       "   ca  thal  target  \n",
       "0   0     1       1  \n",
       "1   0     2       1  \n",
       "2   0     2       1  \n",
       "3   0     2       1  \n",
       "4   0     2       1  "
      ]
     },
     "execution_count": 2,
     "metadata": {},
     "output_type": "execute_result"
    }
   ],
   "source": [
    "df = pd.read_csv(\"heart-disease.csv\")\n",
    "df.head()"
   ]
  },
  {
   "cell_type": "code",
   "execution_count": 3,
   "id": "949a7fc6-7648-4338-ae4b-f7f599549b3a",
   "metadata": {},
   "outputs": [
    {
     "data": {
      "text/plain": [
       "(303, 14)"
      ]
     },
     "execution_count": 3,
     "metadata": {},
     "output_type": "execute_result"
    }
   ],
   "source": [
    "df.shape"
   ]
  },
  {
   "cell_type": "markdown",
   "id": "c11551b5-17e5-454d-a281-780b50f2cc6d",
   "metadata": {},
   "source": [
    "## Data Exploration (exploratory data analysis or EDA)\n",
    "\n",
    "The goal here is to find the out more about the data and become a subject matter expert on the dataset you're working with.\n",
    "\n",
    "1. What questions are you trying to solve?\n",
    "2. What kind of data do we have and how do we treat different types?\n",
    "3. What's missing from data and how do you deal with it?\n",
    "4. Where are the outliers and why should you care about them?\n",
    "5. How can you add,chnage or remove features to get more out of your data?"
   ]
  },
  {
   "cell_type": "code",
   "execution_count": 4,
   "id": "291f069c-2822-466c-a7c7-cc5c3cbcbc51",
   "metadata": {},
   "outputs": [
    {
     "data": {
      "text/html": [
       "<div>\n",
       "<style scoped>\n",
       "    .dataframe tbody tr th:only-of-type {\n",
       "        vertical-align: middle;\n",
       "    }\n",
       "\n",
       "    .dataframe tbody tr th {\n",
       "        vertical-align: top;\n",
       "    }\n",
       "\n",
       "    .dataframe thead th {\n",
       "        text-align: right;\n",
       "    }\n",
       "</style>\n",
       "<table border=\"1\" class=\"dataframe\">\n",
       "  <thead>\n",
       "    <tr style=\"text-align: right;\">\n",
       "      <th></th>\n",
       "      <th>age</th>\n",
       "      <th>sex</th>\n",
       "      <th>cp</th>\n",
       "      <th>trestbps</th>\n",
       "      <th>chol</th>\n",
       "      <th>fbs</th>\n",
       "      <th>restecg</th>\n",
       "      <th>thalach</th>\n",
       "      <th>exang</th>\n",
       "      <th>oldpeak</th>\n",
       "      <th>slope</th>\n",
       "      <th>ca</th>\n",
       "      <th>thal</th>\n",
       "      <th>target</th>\n",
       "    </tr>\n",
       "  </thead>\n",
       "  <tbody>\n",
       "    <tr>\n",
       "      <th>0</th>\n",
       "      <td>63</td>\n",
       "      <td>1</td>\n",
       "      <td>3</td>\n",
       "      <td>145</td>\n",
       "      <td>233</td>\n",
       "      <td>1</td>\n",
       "      <td>0</td>\n",
       "      <td>150</td>\n",
       "      <td>0</td>\n",
       "      <td>2.3</td>\n",
       "      <td>0</td>\n",
       "      <td>0</td>\n",
       "      <td>1</td>\n",
       "      <td>1</td>\n",
       "    </tr>\n",
       "    <tr>\n",
       "      <th>1</th>\n",
       "      <td>37</td>\n",
       "      <td>1</td>\n",
       "      <td>2</td>\n",
       "      <td>130</td>\n",
       "      <td>250</td>\n",
       "      <td>0</td>\n",
       "      <td>1</td>\n",
       "      <td>187</td>\n",
       "      <td>0</td>\n",
       "      <td>3.5</td>\n",
       "      <td>0</td>\n",
       "      <td>0</td>\n",
       "      <td>2</td>\n",
       "      <td>1</td>\n",
       "    </tr>\n",
       "    <tr>\n",
       "      <th>2</th>\n",
       "      <td>41</td>\n",
       "      <td>0</td>\n",
       "      <td>1</td>\n",
       "      <td>130</td>\n",
       "      <td>204</td>\n",
       "      <td>0</td>\n",
       "      <td>0</td>\n",
       "      <td>172</td>\n",
       "      <td>0</td>\n",
       "      <td>1.4</td>\n",
       "      <td>2</td>\n",
       "      <td>0</td>\n",
       "      <td>2</td>\n",
       "      <td>1</td>\n",
       "    </tr>\n",
       "    <tr>\n",
       "      <th>3</th>\n",
       "      <td>56</td>\n",
       "      <td>1</td>\n",
       "      <td>1</td>\n",
       "      <td>120</td>\n",
       "      <td>236</td>\n",
       "      <td>0</td>\n",
       "      <td>1</td>\n",
       "      <td>178</td>\n",
       "      <td>0</td>\n",
       "      <td>0.8</td>\n",
       "      <td>2</td>\n",
       "      <td>0</td>\n",
       "      <td>2</td>\n",
       "      <td>1</td>\n",
       "    </tr>\n",
       "    <tr>\n",
       "      <th>4</th>\n",
       "      <td>57</td>\n",
       "      <td>0</td>\n",
       "      <td>0</td>\n",
       "      <td>120</td>\n",
       "      <td>354</td>\n",
       "      <td>0</td>\n",
       "      <td>1</td>\n",
       "      <td>163</td>\n",
       "      <td>1</td>\n",
       "      <td>0.6</td>\n",
       "      <td>2</td>\n",
       "      <td>0</td>\n",
       "      <td>2</td>\n",
       "      <td>1</td>\n",
       "    </tr>\n",
       "  </tbody>\n",
       "</table>\n",
       "</div>"
      ],
      "text/plain": [
       "   age  sex  cp  trestbps  chol  fbs  restecg  thalach  exang  oldpeak  slope  \\\n",
       "0   63    1   3       145   233    1        0      150      0      2.3      0   \n",
       "1   37    1   2       130   250    0        1      187      0      3.5      0   \n",
       "2   41    0   1       130   204    0        0      172      0      1.4      2   \n",
       "3   56    1   1       120   236    0        1      178      0      0.8      2   \n",
       "4   57    0   0       120   354    0        1      163      1      0.6      2   \n",
       "\n",
       "   ca  thal  target  \n",
       "0   0     1       1  \n",
       "1   0     2       1  \n",
       "2   0     2       1  \n",
       "3   0     2       1  \n",
       "4   0     2       1  "
      ]
     },
     "execution_count": 4,
     "metadata": {},
     "output_type": "execute_result"
    }
   ],
   "source": [
    "df.head()"
   ]
  },
  {
   "cell_type": "code",
   "execution_count": 5,
   "id": "deb66a9c-753b-4171-8879-b4f0efc582b1",
   "metadata": {},
   "outputs": [
    {
     "data": {
      "text/html": [
       "<div>\n",
       "<style scoped>\n",
       "    .dataframe tbody tr th:only-of-type {\n",
       "        vertical-align: middle;\n",
       "    }\n",
       "\n",
       "    .dataframe tbody tr th {\n",
       "        vertical-align: top;\n",
       "    }\n",
       "\n",
       "    .dataframe thead th {\n",
       "        text-align: right;\n",
       "    }\n",
       "</style>\n",
       "<table border=\"1\" class=\"dataframe\">\n",
       "  <thead>\n",
       "    <tr style=\"text-align: right;\">\n",
       "      <th></th>\n",
       "      <th>age</th>\n",
       "      <th>sex</th>\n",
       "      <th>cp</th>\n",
       "      <th>trestbps</th>\n",
       "      <th>chol</th>\n",
       "      <th>fbs</th>\n",
       "      <th>restecg</th>\n",
       "      <th>thalach</th>\n",
       "      <th>exang</th>\n",
       "      <th>oldpeak</th>\n",
       "      <th>slope</th>\n",
       "      <th>ca</th>\n",
       "      <th>thal</th>\n",
       "      <th>target</th>\n",
       "    </tr>\n",
       "  </thead>\n",
       "  <tbody>\n",
       "    <tr>\n",
       "      <th>298</th>\n",
       "      <td>57</td>\n",
       "      <td>0</td>\n",
       "      <td>0</td>\n",
       "      <td>140</td>\n",
       "      <td>241</td>\n",
       "      <td>0</td>\n",
       "      <td>1</td>\n",
       "      <td>123</td>\n",
       "      <td>1</td>\n",
       "      <td>0.2</td>\n",
       "      <td>1</td>\n",
       "      <td>0</td>\n",
       "      <td>3</td>\n",
       "      <td>0</td>\n",
       "    </tr>\n",
       "    <tr>\n",
       "      <th>299</th>\n",
       "      <td>45</td>\n",
       "      <td>1</td>\n",
       "      <td>3</td>\n",
       "      <td>110</td>\n",
       "      <td>264</td>\n",
       "      <td>0</td>\n",
       "      <td>1</td>\n",
       "      <td>132</td>\n",
       "      <td>0</td>\n",
       "      <td>1.2</td>\n",
       "      <td>1</td>\n",
       "      <td>0</td>\n",
       "      <td>3</td>\n",
       "      <td>0</td>\n",
       "    </tr>\n",
       "    <tr>\n",
       "      <th>300</th>\n",
       "      <td>68</td>\n",
       "      <td>1</td>\n",
       "      <td>0</td>\n",
       "      <td>144</td>\n",
       "      <td>193</td>\n",
       "      <td>1</td>\n",
       "      <td>1</td>\n",
       "      <td>141</td>\n",
       "      <td>0</td>\n",
       "      <td>3.4</td>\n",
       "      <td>1</td>\n",
       "      <td>2</td>\n",
       "      <td>3</td>\n",
       "      <td>0</td>\n",
       "    </tr>\n",
       "    <tr>\n",
       "      <th>301</th>\n",
       "      <td>57</td>\n",
       "      <td>1</td>\n",
       "      <td>0</td>\n",
       "      <td>130</td>\n",
       "      <td>131</td>\n",
       "      <td>0</td>\n",
       "      <td>1</td>\n",
       "      <td>115</td>\n",
       "      <td>1</td>\n",
       "      <td>1.2</td>\n",
       "      <td>1</td>\n",
       "      <td>1</td>\n",
       "      <td>3</td>\n",
       "      <td>0</td>\n",
       "    </tr>\n",
       "    <tr>\n",
       "      <th>302</th>\n",
       "      <td>57</td>\n",
       "      <td>0</td>\n",
       "      <td>1</td>\n",
       "      <td>130</td>\n",
       "      <td>236</td>\n",
       "      <td>0</td>\n",
       "      <td>0</td>\n",
       "      <td>174</td>\n",
       "      <td>0</td>\n",
       "      <td>0.0</td>\n",
       "      <td>1</td>\n",
       "      <td>1</td>\n",
       "      <td>2</td>\n",
       "      <td>0</td>\n",
       "    </tr>\n",
       "  </tbody>\n",
       "</table>\n",
       "</div>"
      ],
      "text/plain": [
       "     age  sex  cp  trestbps  chol  fbs  restecg  thalach  exang  oldpeak  \\\n",
       "298   57    0   0       140   241    0        1      123      1      0.2   \n",
       "299   45    1   3       110   264    0        1      132      0      1.2   \n",
       "300   68    1   0       144   193    1        1      141      0      3.4   \n",
       "301   57    1   0       130   131    0        1      115      1      1.2   \n",
       "302   57    0   1       130   236    0        0      174      0      0.0   \n",
       "\n",
       "     slope  ca  thal  target  \n",
       "298      1   0     3       0  \n",
       "299      1   0     3       0  \n",
       "300      1   2     3       0  \n",
       "301      1   1     3       0  \n",
       "302      1   1     2       0  "
      ]
     },
     "execution_count": 5,
     "metadata": {},
     "output_type": "execute_result"
    }
   ],
   "source": [
    "df.tail()"
   ]
  },
  {
   "cell_type": "code",
   "execution_count": 6,
   "id": "4f2ad425-9460-4b9e-8b43-f540d926cdf4",
   "metadata": {},
   "outputs": [
    {
     "data": {
      "text/plain": [
       "target\n",
       "1    165\n",
       "0    138\n",
       "Name: count, dtype: int64"
      ]
     },
     "execution_count": 6,
     "metadata": {},
     "output_type": "execute_result"
    }
   ],
   "source": [
    "# find out how many of each class are there\n",
    "df[\"target\"].value_counts()"
   ]
  },
  {
   "cell_type": "code",
   "execution_count": 7,
   "id": "eead05f6-3afe-4306-8125-5a7cb99906b5",
   "metadata": {},
   "outputs": [
    {
     "data": {
      "image/png": "[encoded data removed]",
      "text/plain": [
       "<Figure size 640x480 with 1 Axes>"
      ]
     },
     "metadata": {},
     "output_type": "display_data"
    }
   ],
   "source": [
    "df[\"target\"].value_counts().plot(kind=\"bar\",color=[\"teal\",\"coral\"]);"
   ]
  },
  {
   "cell_type": "code",
   "execution_count": 8,
   "id": "48802df5-aa1f-4878-af33-7f399cd2bf19",
   "metadata": {},
   "outputs": [
    {
     "name": "stdout",
     "output_type": "stream",
     "text": [
      "<class 'pandas.core.frame.DataFrame'>\n",
      "RangeIndex: 303 entries, 0 to 302\n",
      "Data columns (total 14 columns):\n",
      " #   Column    Non-Null Count  Dtype  \n",
      "---  ------    --------------  -----  \n",
      " 0   age       303 non-null    int64  \n",
      " 1   sex       303 non-null    int64  \n",
      " 2   cp        303 non-null    int64  \n",
      " 3   trestbps  303 non-null    int64  \n",
      " 4   chol      303 non-null    int64  \n",
      " 5   fbs       303 non-null    int64  \n",
      " 6   restecg   303 non-null    int64  \n",
      " 7   thalach   303 non-null    int64  \n",
      " 8   exang     303 non-null    int64  \n",
      " 9   oldpeak   303 non-null    float64\n",
      " 10  slope     303 non-null    int64  \n",
      " 11  ca        303 non-null    int64  \n",
      " 12  thal      303 non-null    int64  \n",
      " 13  target    303 non-null    int64  \n",
      "dtypes: float64(1), int64(13)\n",
      "memory usage: 33.3 KB\n"
     ]
    }
   ],
   "source": [
    "df.info()"
   ]
  },
  {
   "cell_type": "code",
   "execution_count": 9,
   "id": "b14539b6-7a4f-454c-b09f-94e4f0226e6d",
   "metadata": {},
   "outputs": [
    {
     "data": {
      "text/plain": [
       "age         0\n",
       "sex         0\n",
       "cp          0\n",
       "trestbps    0\n",
       "chol        0\n",
       "fbs         0\n",
       "restecg     0\n",
       "thalach     0\n",
       "exang       0\n",
       "oldpeak     0\n",
       "slope       0\n",
       "ca          0\n",
       "thal        0\n",
       "target      0\n",
       "dtype: int64"
      ]
     },
     "execution_count": 9,
     "metadata": {},
     "output_type": "execute_result"
    }
   ],
   "source": [
    "# Are there any missing values?\n",
    "df.isna().sum()"
   ]
  },
  {
   "cell_type": "code",
   "execution_count": 10,
   "id": "5f56a842-1dee-4006-9ed9-e1b44d388f03",
   "metadata": {},
   "outputs": [
    {
     "data": {
      "text/html": [
       "<div>\n",
       "<style scoped>\n",
       "    .dataframe tbody tr th:only-of-type {\n",
       "        vertical-align: middle;\n",
       "    }\n",
       "\n",
       "    .dataframe tbody tr th {\n",
       "        vertical-align: top;\n",
       "    }\n",
       "\n",
       "    .dataframe thead th {\n",
       "        text-align: right;\n",
       "    }\n",
       "</style>\n",
       "<table border=\"1\" class=\"dataframe\">\n",
       "  <thead>\n",
       "    <tr style=\"text-align: right;\">\n",
       "      <th></th>\n",
       "      <th>age</th>\n",
       "      <th>sex</th>\n",
       "      <th>cp</th>\n",
       "      <th>trestbps</th>\n",
       "      <th>chol</th>\n",
       "      <th>fbs</th>\n",
       "      <th>restecg</th>\n",
       "      <th>thalach</th>\n",
       "      <th>exang</th>\n",
       "      <th>oldpeak</th>\n",
       "      <th>slope</th>\n",
       "      <th>ca</th>\n",
       "      <th>thal</th>\n",
       "      <th>target</th>\n",
       "    </tr>\n",
       "  </thead>\n",
       "  <tbody>\n",
       "    <tr>\n",
       "      <th>count</th>\n",
       "      <td>303.000000</td>\n",
       "      <td>303.000000</td>\n",
       "      <td>303.000000</td>\n",
       "      <td>303.000000</td>\n",
       "      <td>303.000000</td>\n",
       "      <td>303.000000</td>\n",
       "      <td>303.000000</td>\n",
       "      <td>303.000000</td>\n",
       "      <td>303.000000</td>\n",
       "      <td>303.000000</td>\n",
       "      <td>303.000000</td>\n",
       "      <td>303.000000</td>\n",
       "      <td>303.000000</td>\n",
       "      <td>303.000000</td>\n",
       "    </tr>\n",
       "    <tr>\n",
       "      <th>mean</th>\n",
       "      <td>54.366337</td>\n",
       "      <td>0.683168</td>\n",
       "      <td>0.966997</td>\n",
       "      <td>131.623762</td>\n",
       "      <td>246.264026</td>\n",
       "      <td>0.148515</td>\n",
       "      <td>0.528053</td>\n",
       "      <td>149.646865</td>\n",
       "      <td>0.326733</td>\n",
       "      <td>1.039604</td>\n",
       "      <td>1.399340</td>\n",
       "      <td>0.729373</td>\n",
       "      <td>2.313531</td>\n",
       "      <td>0.544554</td>\n",
       "    </tr>\n",
       "    <tr>\n",
       "      <th>std</th>\n",
       "      <td>9.082101</td>\n",
       "      <td>0.466011</td>\n",
       "      <td>1.032052</td>\n",
       "      <td>17.538143</td>\n",
       "      <td>51.830751</td>\n",
       "      <td>0.356198</td>\n",
       "      <td>0.525860</td>\n",
       "      <td>22.905161</td>\n",
       "      <td>0.469794</td>\n",
       "      <td>1.161075</td>\n",
       "      <td>0.616226</td>\n",
       "      <td>1.022606</td>\n",
       "      <td>0.612277</td>\n",
       "      <td>0.498835</td>\n",
       "    </tr>\n",
       "    <tr>\n",
       "      <th>min</th>\n",
       "      <td>29.000000</td>\n",
       "      <td>0.000000</td>\n",
       "      <td>0.000000</td>\n",
       "      <td>94.000000</td>\n",
       "      <td>126.000000</td>\n",
       "      <td>0.000000</td>\n",
       "      <td>0.000000</td>\n",
       "      <td>71.000000</td>\n",
       "      <td>0.000000</td>\n",
       "      <td>0.000000</td>\n",
       "      <td>0.000000</td>\n",
       "      <td>0.000000</td>\n",
       "      <td>0.000000</td>\n",
       "      <td>0.000000</td>\n",
       "    </tr>\n",
       "    <tr>\n",
       "      <th>25%</th>\n",
       "      <td>47.500000</td>\n",
       "      <td>0.000000</td>\n",
       "      <td>0.000000</td>\n",
       "      <td>120.000000</td>\n",
       "      <td>211.000000</td>\n",
       "      <td>0.000000</td>\n",
       "      <td>0.000000</td>\n",
       "      <td>133.500000</td>\n",
       "      <td>0.000000</td>\n",
       "      <td>0.000000</td>\n",
       "      <td>1.000000</td>\n",
       "      <td>0.000000</td>\n",
       "      <td>2.000000</td>\n",
       "      <td>0.000000</td>\n",
       "    </tr>\n",
       "    <tr>\n",
       "      <th>50%</th>\n",
       "      <td>55.000000</td>\n",
       "      <td>1.000000</td>\n",
       "      <td>1.000000</td>\n",
       "      <td>130.000000</td>\n",
       "      <td>240.000000</td>\n",
       "      <td>0.000000</td>\n",
       "      <td>1.000000</td>\n",
       "      <td>153.000000</td>\n",
       "      <td>0.000000</td>\n",
       "      <td>0.800000</td>\n",
       "      <td>1.000000</td>\n",
       "      <td>0.000000</td>\n",
       "      <td>2.000000</td>\n",
       "      <td>1.000000</td>\n",
       "    </tr>\n",
       "    <tr>\n",
       "      <th>75%</th>\n",
       "      <td>61.000000</td>\n",
       "      <td>1.000000</td>\n",
       "      <td>2.000000</td>\n",
       "      <td>140.000000</td>\n",
       "      <td>274.500000</td>\n",
       "      <td>0.000000</td>\n",
       "      <td>1.000000</td>\n",
       "      <td>166.000000</td>\n",
       "      <td>1.000000</td>\n",
       "      <td>1.600000</td>\n",
       "      <td>2.000000</td>\n",
       "      <td>1.000000</td>\n",
       "      <td>3.000000</td>\n",
       "      <td>1.000000</td>\n",
       "    </tr>\n",
       "    <tr>\n",
       "      <th>max</th>\n",
       "      <td>77.000000</td>\n",
       "      <td>1.000000</td>\n",
       "      <td>3.000000</td>\n",
       "      <td>200.000000</td>\n",
       "      <td>564.000000</td>\n",
       "      <td>1.000000</td>\n",
       "      <td>2.000000</td>\n",
       "      <td>202.000000</td>\n",
       "      <td>1.000000</td>\n",
       "      <td>6.200000</td>\n",
       "      <td>2.000000</td>\n",
       "      <td>4.000000</td>\n",
       "      <td>3.000000</td>\n",
       "      <td>1.000000</td>\n",
       "    </tr>\n",
       "  </tbody>\n",
       "</table>\n",
       "</div>"
      ],
      "text/plain": [
       "              age         sex          cp    trestbps        chol         fbs  \\\n",
       "count  303.000000  303.000000  303.000000  303.000000  303.000000  303.000000   \n",
       "mean    54.366337    0.683168    0.966997  131.623762  246.264026    0.148515   \n",
       "std      9.082101    0.466011    1.032052   17.538143   51.830751    0.356198   \n",
       "min     29.000000    0.000000    0.000000   94.000000  126.000000    0.000000   \n",
       "25%     47.500000    0.000000    0.000000  120.000000  211.000000    0.000000   \n",
       "50%     55.000000    1.000000    1.000000  130.000000  240.000000    0.000000   \n",
       "75%     61.000000    1.000000    2.000000  140.000000  274.500000    0.000000   \n",
       "max     77.000000    1.000000    3.000000  200.000000  564.000000    1.000000   \n",
       "\n",
       "          restecg     thalach       exang     oldpeak       slope          ca  \\\n",
       "count  303.000000  303.000000  303.000000  303.000000  303.000000  303.000000   \n",
       "mean     0.528053  149.646865    0.326733    1.039604    1.399340    0.729373   \n",
       "std      0.525860   22.905161    0.469794    1.161075    0.616226    1.022606   \n",
       "min      0.000000   71.000000    0.000000    0.000000    0.000000    0.000000   \n",
       "25%      0.000000  133.500000    0.000000    0.000000    1.000000    0.000000   \n",
       "50%      1.000000  153.000000    0.000000    0.800000    1.000000    0.000000   \n",
       "75%      1.000000  166.000000    1.000000    1.600000    2.000000    1.000000   \n",
       "max      2.000000  202.000000    1.000000    6.200000    2.000000    4.000000   \n",
       "\n",
       "             thal      target  \n",
       "count  303.000000  303.000000  \n",
       "mean     2.313531    0.544554  \n",
       "std      0.612277    0.498835  \n",
       "min      0.000000    0.000000  \n",
       "25%      2.000000    0.000000  \n",
       "50%      2.000000    1.000000  \n",
       "75%      3.000000    1.000000  \n",
       "max      3.000000    1.000000  "
      ]
     },
     "execution_count": 10,
     "metadata": {},
     "output_type": "execute_result"
    }
   ],
   "source": [
    "df.describe()"
   ]
  },
  {
   "cell_type": "markdown",
   "id": "634d24ec-ca2c-476a-923a-8022ffe8c927",
   "metadata": {},
   "source": [
    "## Heart Disease Frequency according to Sex\n"
   ]
  },
  {
   "cell_type": "code",
   "execution_count": 11,
   "id": "d2b6f5fc-86c8-4cf1-a61a-67d70e2805d6",
   "metadata": {},
   "outputs": [
    {
     "data": {
      "text/plain": [
       "sex\n",
       "1    207\n",
       "0     96\n",
       "Name: count, dtype: int64"
      ]
     },
     "execution_count": 11,
     "metadata": {},
     "output_type": "execute_result"
    }
   ],
   "source": [
    "df.sex.value_counts()"
   ]
  },
  {
   "cell_type": "code",
   "execution_count": 12,
   "id": "1b6a2107-7fa6-4513-980b-eef69f7cce6f",
   "metadata": {},
   "outputs": [
    {
     "data": {
      "text/html": [
       "<div>\n",
       "<style scoped>\n",
       "    .dataframe tbody tr th:only-of-type {\n",
       "        vertical-align: middle;\n",
       "    }\n",
       "\n",
       "    .dataframe tbody tr th {\n",
       "        vertical-align: top;\n",
       "    }\n",
       "\n",
       "    .dataframe thead th {\n",
       "        text-align: right;\n",
       "    }\n",
       "</style>\n",
       "<table border=\"1\" class=\"dataframe\">\n",
       "  <thead>\n",
       "    <tr style=\"text-align: right;\">\n",
       "      <th>sex</th>\n",
       "      <th>0</th>\n",
       "      <th>1</th>\n",
       "    </tr>\n",
       "    <tr>\n",
       "      <th>target</th>\n",
       "      <th></th>\n",
       "      <th></th>\n",
       "    </tr>\n",
       "  </thead>\n",
       "  <tbody>\n",
       "    <tr>\n",
       "      <th>0</th>\n",
       "      <td>24</td>\n",
       "      <td>114</td>\n",
       "    </tr>\n",
       "    <tr>\n",
       "      <th>1</th>\n",
       "      <td>72</td>\n",
       "      <td>93</td>\n",
       "    </tr>\n",
       "  </tbody>\n",
       "</table>\n",
       "</div>"
      ],
      "text/plain": [
       "sex      0    1\n",
       "target         \n",
       "0       24  114\n",
       "1       72   93"
      ]
     },
     "execution_count": 12,
     "metadata": {},
     "output_type": "execute_result"
    }
   ],
   "source": [
    "# Compare target column with sex column\n",
    "pd.crosstab(df.target,df.sex)"
   ]
  },
  {
   "cell_type": "code",
   "execution_count": 13,
   "id": "d013863f-5933-4916-a550-06d75d82401e",
   "metadata": {},
   "outputs": [
    {
     "data": {
      "image/png": "[encoded data removed]",
      "text/plain": [
       "<Figure size 1000x600 with 1 Axes>"
      ]
     },
     "metadata": {},
     "output_type": "display_data"
    }
   ],
   "source": [
    "# create a plot for cross tab\n",
    "\n",
    "pd.crosstab(df.target,df.sex).plot(kind=\"bar\",color=[\"teal\",\"coral\"],figsize=(10,6))\n",
    "plt.title(\"Heart Disease Frequency for Sex\")\n",
    "plt.xlabel(\"0 = No Disease; 1 = Disease\")\n",
    "plt.ylabel(\"Amount\")\n",
    "plt.legend([\"Female\",\"Male\"])\n",
    "plt.xticks(rotation=0);"
   ]
  },
  {
   "cell_type": "markdown",
   "id": "3f7d5c2b-7484-49d8-93b3-26c633641f8c",
   "metadata": {},
   "source": [
    "## Comparing target vs cp"
   ]
  },
  {
   "cell_type": "code",
   "execution_count": 14,
   "id": "d0729351-97ac-446d-b9a3-7050c11c6faf",
   "metadata": {},
   "outputs": [
    {
     "data": {
      "text/html": [
       "<div>\n",
       "<style scoped>\n",
       "    .dataframe tbody tr th:only-of-type {\n",
       "        vertical-align: middle;\n",
       "    }\n",
       "\n",
       "    .dataframe tbody tr th {\n",
       "        vertical-align: top;\n",
       "    }\n",
       "\n",
       "    .dataframe thead th {\n",
       "        text-align: right;\n",
       "    }\n",
       "</style>\n",
       "<table border=\"1\" class=\"dataframe\">\n",
       "  <thead>\n",
       "    <tr style=\"text-align: right;\">\n",
       "      <th>target</th>\n",
       "      <th>0</th>\n",
       "      <th>1</th>\n",
       "    </tr>\n",
       "    <tr>\n",
       "      <th>cp</th>\n",
       "      <th></th>\n",
       "      <th></th>\n",
       "    </tr>\n",
       "  </thead>\n",
       "  <tbody>\n",
       "    <tr>\n",
       "      <th>0</th>\n",
       "      <td>104</td>\n",
       "      <td>39</td>\n",
       "    </tr>\n",
       "    <tr>\n",
       "      <th>1</th>\n",
       "      <td>9</td>\n",
       "      <td>41</td>\n",
       "    </tr>\n",
       "    <tr>\n",
       "      <th>2</th>\n",
       "      <td>18</td>\n",
       "      <td>69</td>\n",
       "    </tr>\n",
       "    <tr>\n",
       "      <th>3</th>\n",
       "      <td>7</td>\n",
       "      <td>16</td>\n",
       "    </tr>\n",
       "  </tbody>\n",
       "</table>\n",
       "</div>"
      ],
      "text/plain": [
       "target    0   1\n",
       "cp             \n",
       "0       104  39\n",
       "1         9  41\n",
       "2        18  69\n",
       "3         7  16"
      ]
     },
     "execution_count": 14,
     "metadata": {},
     "output_type": "execute_result"
    }
   ],
   "source": [
    "pd.crosstab(df.cp,df.target) # cp - chest pain"
   ]
  },
  {
   "cell_type": "code",
   "execution_count": 15,
   "id": "8e00f598-b217-4e79-9e69-2fa541da983b",
   "metadata": {},
   "outputs": [
    {
     "data": {
      "image/png": "[encoded data removed]",
      "text/plain": [
       "<Figure size 1000x600 with 1 Axes>"
      ]
     },
     "metadata": {},
     "output_type": "display_data"
    }
   ],
   "source": [
    "# plotting (oo method)\n",
    "\n",
    "\n",
    "# data\n",
    "data = pd.crosstab(df.cp,df.target)\n",
    "\n",
    "# create a plot\n",
    "fig,ax = plt.subplots(figsize=(10,6))\n",
    "\n",
    "# plot the data\n",
    "data.plot(kind=\"bar\",ax=ax,color=[\"teal\",\"coral\"])\n",
    "\n",
    "# Customize the plot\n",
    "ax.set(title=\"Heart Disease Fequency Per Chest Pain Type\",\n",
    "      xlabel=\"Chest Pain Type\",\n",
    "      ylabel=\"Amount\")\n",
    "ax.set_xticklabels(ax.get_xticklabels(), rotation=0)\n",
    "ax.legend([\"No Disease\",\"Disease\"]);\n"
   ]
  },
  {
   "cell_type": "code",
   "execution_count": 16,
   "id": "afcb7bfa-f8a1-41dd-914a-3e3e2593aeb9",
   "metadata": {},
   "outputs": [
    {
     "data": {
      "image/png": "[encoded data removed]",
      "text/plain": [
       "<Figure size 1000x600 with 1 Axes>"
      ]
     },
     "metadata": {},
     "output_type": "display_data"
    }
   ],
   "source": [
    "# plotting \n",
    "\n",
    "# Make the crosstab more visual\n",
    "pd.crosstab(df.cp, df.target).plot(kind=\"bar\",\n",
    "                                   figsize=(10, 6),\n",
    "                                   color=[\"teal\", \"coral\"])\n",
    "\n",
    "# Add some communication\n",
    "plt.title(\"Heart Disease Frequency Per Chest Pain Type\")\n",
    "plt.xlabel(\"Chest Pain Type\")\n",
    "plt.ylabel(\"Amount\")\n",
    "plt.legend([\"No Disease\", \"Disease\"])\n",
    "plt.xticks(rotation=0);"
   ]
  },
  {
   "cell_type": "markdown",
   "id": "15d3fe96-9044-4c7f-a591-28be19729aca",
   "metadata": {},
   "source": [
    "## Age vs Max Heart Rate for Heart Disease"
   ]
  },
  {
   "cell_type": "code",
   "execution_count": 17,
   "id": "e30170a3-f314-42d9-bee8-fa1753f92ef3",
   "metadata": {},
   "outputs": [
    {
     "data": {
      "image/png": "[encoded data removed]",
      "text/plain": [
       "<Figure size 1000x600 with 1 Axes>"
      ]
     },
     "metadata": {},
     "output_type": "display_data"
    }
   ],
   "source": [
    "# create another figure\n",
    "plt.figure(figsize=(10,6))\n",
    "\n",
    "\n",
    "# scatter with positive examples\n",
    "plt.scatter(df.age[df.target==1],\n",
    "            df.thalach[df.target==1],\n",
    "            color=\"teal\")\n",
    "\n",
    "\n",
    "\n",
    "# scatter with negative examples\n",
    "plt.scatter(df.age[df.target==0],\n",
    "            df.thalach[df.target==0],\n",
    "            color=\"coral\")\n",
    "\n",
    "\n",
    "# Add some helpful info\n",
    "plt.title(\"Heart Disease in function of Age and Max Heart Rate\")\n",
    "plt.xlabel(\"Age\")\n",
    "plt.ylabel(\"Max Heart Rate\")\n",
    "plt.legend([\"Disease\",\"No Disease\"]);"
   ]
  },
  {
   "cell_type": "code",
   "execution_count": 18,
   "id": "af8e1a32-9b23-4683-b431-75a33d8e94af",
   "metadata": {},
   "outputs": [
    {
     "data": {
      "image/png": "[encoded data removed]",
      "text/plain": [
       "<Figure size 640x480 with 1 Axes>"
      ]
     },
     "metadata": {},
     "output_type": "display_data"
    }
   ],
   "source": [
    "#check the distribution of age column with a histogram\n",
    "\n",
    "df.age.plot.hist();"
   ]
  },
  {
   "cell_type": "markdown",
   "id": "a238122e-31f1-4cde-a373-65729fd6e1be",
   "metadata": {},
   "source": [
    "## Heart Disease Frequency per Chest Pain Type\n",
    "\n",
    "\n",
    " 3.cp- Chest-pain type\n",
    " * 0 = Typical angina: chest pain related to decrease in blood supply to the heart \n",
    " * 1 = Atypical angina: chest pain not related to heart\n",
    " * 2 = Non—anginal pain: typically esophageal spasms (non heart related)\n",
    " * 3 = Asymptotic: chest: chest pain not showing signs of disease"
   ]
  },
  {
   "cell_type": "code",
   "execution_count": 19,
   "id": "c01e5cab-f850-44a9-81d4-9d6773d276d5",
   "metadata": {},
   "outputs": [
    {
     "data": {
      "text/html": [
       "<div>\n",
       "<style scoped>\n",
       "    .dataframe tbody tr th:only-of-type {\n",
       "        vertical-align: middle;\n",
       "    }\n",
       "\n",
       "    .dataframe tbody tr th {\n",
       "        vertical-align: top;\n",
       "    }\n",
       "\n",
       "    .dataframe thead th {\n",
       "        text-align: right;\n",
       "    }\n",
       "</style>\n",
       "<table border=\"1\" class=\"dataframe\">\n",
       "  <thead>\n",
       "    <tr style=\"text-align: right;\">\n",
       "      <th>target</th>\n",
       "      <th>0</th>\n",
       "      <th>1</th>\n",
       "    </tr>\n",
       "    <tr>\n",
       "      <th>cp</th>\n",
       "      <th></th>\n",
       "      <th></th>\n",
       "    </tr>\n",
       "  </thead>\n",
       "  <tbody>\n",
       "    <tr>\n",
       "      <th>0</th>\n",
       "      <td>104</td>\n",
       "      <td>39</td>\n",
       "    </tr>\n",
       "    <tr>\n",
       "      <th>1</th>\n",
       "      <td>9</td>\n",
       "      <td>41</td>\n",
       "    </tr>\n",
       "    <tr>\n",
       "      <th>2</th>\n",
       "      <td>18</td>\n",
       "      <td>69</td>\n",
       "    </tr>\n",
       "    <tr>\n",
       "      <th>3</th>\n",
       "      <td>7</td>\n",
       "      <td>16</td>\n",
       "    </tr>\n",
       "  </tbody>\n",
       "</table>\n",
       "</div>"
      ],
      "text/plain": [
       "target    0   1\n",
       "cp             \n",
       "0       104  39\n",
       "1         9  41\n",
       "2        18  69\n",
       "3         7  16"
      ]
     },
     "execution_count": 19,
     "metadata": {},
     "output_type": "execute_result"
    }
   ],
   "source": [
    "pd.crosstab(df.cp,df.target)"
   ]
  },
  {
   "cell_type": "code",
   "execution_count": 20,
   "id": "78fa735f-5594-401d-b16c-579471e5ac25",
   "metadata": {},
   "outputs": [
    {
     "data": {
      "image/png": "[encoded data removed]",
      "text/plain": [
       "<Figure size 1000x600 with 1 Axes>"
      ]
     },
     "metadata": {},
     "output_type": "display_data"
    }
   ],
   "source": [
    "# Make the crosstab more visual\n",
    "\n",
    "pd.crosstab(df.cp,df.target).plot(kind=\"bar\",color=[\"teal\",\"coral\"],figsize=(10,6))\n",
    "\n",
    "# Customize the plot\n",
    "plt.title(\"Heart Disease Frequency Per Chest Pain Type\")\n",
    "plt.xlabel(\"Chest Pain Type\")\n",
    "plt.ylabel(\"Amount\")\n",
    "plt.legend([\"No Disease\",\"Disease\"])\n",
    "plt.xticks(rotation=0);"
   ]
  },
  {
   "cell_type": "code",
   "execution_count": 21,
   "id": "b566c9b8-fa67-46ea-837e-2cd56245581b",
   "metadata": {},
   "outputs": [
    {
     "data": {
      "text/html": [
       "<div>\n",
       "<style scoped>\n",
       "    .dataframe tbody tr th:only-of-type {\n",
       "        vertical-align: middle;\n",
       "    }\n",
       "\n",
       "    .dataframe tbody tr th {\n",
       "        vertical-align: top;\n",
       "    }\n",
       "\n",
       "    .dataframe thead th {\n",
       "        text-align: right;\n",
       "    }\n",
       "</style>\n",
       "<table border=\"1\" class=\"dataframe\">\n",
       "  <thead>\n",
       "    <tr style=\"text-align: right;\">\n",
       "      <th></th>\n",
       "      <th>age</th>\n",
       "      <th>sex</th>\n",
       "      <th>cp</th>\n",
       "      <th>trestbps</th>\n",
       "      <th>chol</th>\n",
       "      <th>fbs</th>\n",
       "      <th>restecg</th>\n",
       "      <th>thalach</th>\n",
       "      <th>exang</th>\n",
       "      <th>oldpeak</th>\n",
       "      <th>slope</th>\n",
       "      <th>ca</th>\n",
       "      <th>thal</th>\n",
       "      <th>target</th>\n",
       "    </tr>\n",
       "  </thead>\n",
       "  <tbody>\n",
       "    <tr>\n",
       "      <th>0</th>\n",
       "      <td>63</td>\n",
       "      <td>1</td>\n",
       "      <td>3</td>\n",
       "      <td>145</td>\n",
       "      <td>233</td>\n",
       "      <td>1</td>\n",
       "      <td>0</td>\n",
       "      <td>150</td>\n",
       "      <td>0</td>\n",
       "      <td>2.3</td>\n",
       "      <td>0</td>\n",
       "      <td>0</td>\n",
       "      <td>1</td>\n",
       "      <td>1</td>\n",
       "    </tr>\n",
       "    <tr>\n",
       "      <th>1</th>\n",
       "      <td>37</td>\n",
       "      <td>1</td>\n",
       "      <td>2</td>\n",
       "      <td>130</td>\n",
       "      <td>250</td>\n",
       "      <td>0</td>\n",
       "      <td>1</td>\n",
       "      <td>187</td>\n",
       "      <td>0</td>\n",
       "      <td>3.5</td>\n",
       "      <td>0</td>\n",
       "      <td>0</td>\n",
       "      <td>2</td>\n",
       "      <td>1</td>\n",
       "    </tr>\n",
       "    <tr>\n",
       "      <th>2</th>\n",
       "      <td>41</td>\n",
       "      <td>0</td>\n",
       "      <td>1</td>\n",
       "      <td>130</td>\n",
       "      <td>204</td>\n",
       "      <td>0</td>\n",
       "      <td>0</td>\n",
       "      <td>172</td>\n",
       "      <td>0</td>\n",
       "      <td>1.4</td>\n",
       "      <td>2</td>\n",
       "      <td>0</td>\n",
       "      <td>2</td>\n",
       "      <td>1</td>\n",
       "    </tr>\n",
       "    <tr>\n",
       "      <th>3</th>\n",
       "      <td>56</td>\n",
       "      <td>1</td>\n",
       "      <td>1</td>\n",
       "      <td>120</td>\n",
       "      <td>236</td>\n",
       "      <td>0</td>\n",
       "      <td>1</td>\n",
       "      <td>178</td>\n",
       "      <td>0</td>\n",
       "      <td>0.8</td>\n",
       "      <td>2</td>\n",
       "      <td>0</td>\n",
       "      <td>2</td>\n",
       "      <td>1</td>\n",
       "    </tr>\n",
       "    <tr>\n",
       "      <th>4</th>\n",
       "      <td>57</td>\n",
       "      <td>0</td>\n",
       "      <td>0</td>\n",
       "      <td>120</td>\n",
       "      <td>354</td>\n",
       "      <td>0</td>\n",
       "      <td>1</td>\n",
       "      <td>163</td>\n",
       "      <td>1</td>\n",
       "      <td>0.6</td>\n",
       "      <td>2</td>\n",
       "      <td>0</td>\n",
       "      <td>2</td>\n",
       "      <td>1</td>\n",
       "    </tr>\n",
       "  </tbody>\n",
       "</table>\n",
       "</div>"
      ],
      "text/plain": [
       "   age  sex  cp  trestbps  chol  fbs  restecg  thalach  exang  oldpeak  slope  \\\n",
       "0   63    1   3       145   233    1        0      150      0      2.3      0   \n",
       "1   37    1   2       130   250    0        1      187      0      3.5      0   \n",
       "2   41    0   1       130   204    0        0      172      0      1.4      2   \n",
       "3   56    1   1       120   236    0        1      178      0      0.8      2   \n",
       "4   57    0   0       120   354    0        1      163      1      0.6      2   \n",
       "\n",
       "   ca  thal  target  \n",
       "0   0     1       1  \n",
       "1   0     2       1  \n",
       "2   0     2       1  \n",
       "3   0     2       1  \n",
       "4   0     2       1  "
      ]
     },
     "execution_count": 21,
     "metadata": {},
     "output_type": "execute_result"
    }
   ],
   "source": [
    "df.head()"
   ]
  },
  {
   "cell_type": "code",
   "execution_count": 22,
   "id": "08f94e72-6f6d-4655-ad60-26aeb5a5970a",
   "metadata": {},
   "outputs": [
    {
     "data": {
      "text/html": [
       "<div>\n",
       "<style scoped>\n",
       "    .dataframe tbody tr th:only-of-type {\n",
       "        vertical-align: middle;\n",
       "    }\n",
       "\n",
       "    .dataframe tbody tr th {\n",
       "        vertical-align: top;\n",
       "    }\n",
       "\n",
       "    .dataframe thead th {\n",
       "        text-align: right;\n",
       "    }\n",
       "</style>\n",
       "<table border=\"1\" class=\"dataframe\">\n",
       "  <thead>\n",
       "    <tr style=\"text-align: right;\">\n",
       "      <th></th>\n",
       "      <th>age</th>\n",
       "      <th>sex</th>\n",
       "      <th>cp</th>\n",
       "      <th>trestbps</th>\n",
       "      <th>chol</th>\n",
       "      <th>fbs</th>\n",
       "      <th>restecg</th>\n",
       "      <th>thalach</th>\n",
       "      <th>exang</th>\n",
       "      <th>oldpeak</th>\n",
       "      <th>slope</th>\n",
       "      <th>ca</th>\n",
       "      <th>thal</th>\n",
       "      <th>target</th>\n",
       "    </tr>\n",
       "  </thead>\n",
       "  <tbody>\n",
       "    <tr>\n",
       "      <th>age</th>\n",
       "      <td>1.000000</td>\n",
       "      <td>-0.098447</td>\n",
       "      <td>-0.068653</td>\n",
       "      <td>0.279351</td>\n",
       "      <td>0.213678</td>\n",
       "      <td>0.121308</td>\n",
       "      <td>-0.116211</td>\n",
       "      <td>-0.398522</td>\n",
       "      <td>0.096801</td>\n",
       "      <td>0.210013</td>\n",
       "      <td>-0.168814</td>\n",
       "      <td>0.276326</td>\n",
       "      <td>0.068001</td>\n",
       "      <td>-0.225439</td>\n",
       "    </tr>\n",
       "    <tr>\n",
       "      <th>sex</th>\n",
       "      <td>-0.098447</td>\n",
       "      <td>1.000000</td>\n",
       "      <td>-0.049353</td>\n",
       "      <td>-0.056769</td>\n",
       "      <td>-0.197912</td>\n",
       "      <td>0.045032</td>\n",
       "      <td>-0.058196</td>\n",
       "      <td>-0.044020</td>\n",
       "      <td>0.141664</td>\n",
       "      <td>0.096093</td>\n",
       "      <td>-0.030711</td>\n",
       "      <td>0.118261</td>\n",
       "      <td>0.210041</td>\n",
       "      <td>-0.280937</td>\n",
       "    </tr>\n",
       "    <tr>\n",
       "      <th>cp</th>\n",
       "      <td>-0.068653</td>\n",
       "      <td>-0.049353</td>\n",
       "      <td>1.000000</td>\n",
       "      <td>0.047608</td>\n",
       "      <td>-0.076904</td>\n",
       "      <td>0.094444</td>\n",
       "      <td>0.044421</td>\n",
       "      <td>0.295762</td>\n",
       "      <td>-0.394280</td>\n",
       "      <td>-0.149230</td>\n",
       "      <td>0.119717</td>\n",
       "      <td>-0.181053</td>\n",
       "      <td>-0.161736</td>\n",
       "      <td>0.433798</td>\n",
       "    </tr>\n",
       "    <tr>\n",
       "      <th>trestbps</th>\n",
       "      <td>0.279351</td>\n",
       "      <td>-0.056769</td>\n",
       "      <td>0.047608</td>\n",
       "      <td>1.000000</td>\n",
       "      <td>0.123174</td>\n",
       "      <td>0.177531</td>\n",
       "      <td>-0.114103</td>\n",
       "      <td>-0.046698</td>\n",
       "      <td>0.067616</td>\n",
       "      <td>0.193216</td>\n",
       "      <td>-0.121475</td>\n",
       "      <td>0.101389</td>\n",
       "      <td>0.062210</td>\n",
       "      <td>-0.144931</td>\n",
       "    </tr>\n",
       "    <tr>\n",
       "      <th>chol</th>\n",
       "      <td>0.213678</td>\n",
       "      <td>-0.197912</td>\n",
       "      <td>-0.076904</td>\n",
       "      <td>0.123174</td>\n",
       "      <td>1.000000</td>\n",
       "      <td>0.013294</td>\n",
       "      <td>-0.151040</td>\n",
       "      <td>-0.009940</td>\n",
       "      <td>0.067023</td>\n",
       "      <td>0.053952</td>\n",
       "      <td>-0.004038</td>\n",
       "      <td>0.070511</td>\n",
       "      <td>0.098803</td>\n",
       "      <td>-0.085239</td>\n",
       "    </tr>\n",
       "    <tr>\n",
       "      <th>fbs</th>\n",
       "      <td>0.121308</td>\n",
       "      <td>0.045032</td>\n",
       "      <td>0.094444</td>\n",
       "      <td>0.177531</td>\n",
       "      <td>0.013294</td>\n",
       "      <td>1.000000</td>\n",
       "      <td>-0.084189</td>\n",
       "      <td>-0.008567</td>\n",
       "      <td>0.025665</td>\n",
       "      <td>0.005747</td>\n",
       "      <td>-0.059894</td>\n",
       "      <td>0.137979</td>\n",
       "      <td>-0.032019</td>\n",
       "      <td>-0.028046</td>\n",
       "    </tr>\n",
       "    <tr>\n",
       "      <th>restecg</th>\n",
       "      <td>-0.116211</td>\n",
       "      <td>-0.058196</td>\n",
       "      <td>0.044421</td>\n",
       "      <td>-0.114103</td>\n",
       "      <td>-0.151040</td>\n",
       "      <td>-0.084189</td>\n",
       "      <td>1.000000</td>\n",
       "      <td>0.044123</td>\n",
       "      <td>-0.070733</td>\n",
       "      <td>-0.058770</td>\n",
       "      <td>0.093045</td>\n",
       "      <td>-0.072042</td>\n",
       "      <td>-0.011981</td>\n",
       "      <td>0.137230</td>\n",
       "    </tr>\n",
       "    <tr>\n",
       "      <th>thalach</th>\n",
       "      <td>-0.398522</td>\n",
       "      <td>-0.044020</td>\n",
       "      <td>0.295762</td>\n",
       "      <td>-0.046698</td>\n",
       "      <td>-0.009940</td>\n",
       "      <td>-0.008567</td>\n",
       "      <td>0.044123</td>\n",
       "      <td>1.000000</td>\n",
       "      <td>-0.378812</td>\n",
       "      <td>-0.344187</td>\n",
       "      <td>0.386784</td>\n",
       "      <td>-0.213177</td>\n",
       "      <td>-0.096439</td>\n",
       "      <td>0.421741</td>\n",
       "    </tr>\n",
       "    <tr>\n",
       "      <th>exang</th>\n",
       "      <td>0.096801</td>\n",
       "      <td>0.141664</td>\n",
       "      <td>-0.394280</td>\n",
       "      <td>0.067616</td>\n",
       "      <td>0.067023</td>\n",
       "      <td>0.025665</td>\n",
       "      <td>-0.070733</td>\n",
       "      <td>-0.378812</td>\n",
       "      <td>1.000000</td>\n",
       "      <td>0.288223</td>\n",
       "      <td>-0.257748</td>\n",
       "      <td>0.115739</td>\n",
       "      <td>0.206754</td>\n",
       "      <td>-0.436757</td>\n",
       "    </tr>\n",
       "    <tr>\n",
       "      <th>oldpeak</th>\n",
       "      <td>0.210013</td>\n",
       "      <td>0.096093</td>\n",
       "      <td>-0.149230</td>\n",
       "      <td>0.193216</td>\n",
       "      <td>0.053952</td>\n",
       "      <td>0.005747</td>\n",
       "      <td>-0.058770</td>\n",
       "      <td>-0.344187</td>\n",
       "      <td>0.288223</td>\n",
       "      <td>1.000000</td>\n",
       "      <td>-0.577537</td>\n",
       "      <td>0.222682</td>\n",
       "      <td>0.210244</td>\n",
       "      <td>-0.430696</td>\n",
       "    </tr>\n",
       "    <tr>\n",
       "      <th>slope</th>\n",
       "      <td>-0.168814</td>\n",
       "      <td>-0.030711</td>\n",
       "      <td>0.119717</td>\n",
       "      <td>-0.121475</td>\n",
       "      <td>-0.004038</td>\n",
       "      <td>-0.059894</td>\n",
       "      <td>0.093045</td>\n",
       "      <td>0.386784</td>\n",
       "      <td>-0.257748</td>\n",
       "      <td>-0.577537</td>\n",
       "      <td>1.000000</td>\n",
       "      <td>-0.080155</td>\n",
       "      <td>-0.104764</td>\n",
       "      <td>0.345877</td>\n",
       "    </tr>\n",
       "    <tr>\n",
       "      <th>ca</th>\n",
       "      <td>0.276326</td>\n",
       "      <td>0.118261</td>\n",
       "      <td>-0.181053</td>\n",
       "      <td>0.101389</td>\n",
       "      <td>0.070511</td>\n",
       "      <td>0.137979</td>\n",
       "      <td>-0.072042</td>\n",
       "      <td>-0.213177</td>\n",
       "      <td>0.115739</td>\n",
       "      <td>0.222682</td>\n",
       "      <td>-0.080155</td>\n",
       "      <td>1.000000</td>\n",
       "      <td>0.151832</td>\n",
       "      <td>-0.391724</td>\n",
       "    </tr>\n",
       "    <tr>\n",
       "      <th>thal</th>\n",
       "      <td>0.068001</td>\n",
       "      <td>0.210041</td>\n",
       "      <td>-0.161736</td>\n",
       "      <td>0.062210</td>\n",
       "      <td>0.098803</td>\n",
       "      <td>-0.032019</td>\n",
       "      <td>-0.011981</td>\n",
       "      <td>-0.096439</td>\n",
       "      <td>0.206754</td>\n",
       "      <td>0.210244</td>\n",
       "      <td>-0.104764</td>\n",
       "      <td>0.151832</td>\n",
       "      <td>1.000000</td>\n",
       "      <td>-0.344029</td>\n",
       "    </tr>\n",
       "    <tr>\n",
       "      <th>target</th>\n",
       "      <td>-0.225439</td>\n",
       "      <td>-0.280937</td>\n",
       "      <td>0.433798</td>\n",
       "      <td>-0.144931</td>\n",
       "      <td>-0.085239</td>\n",
       "      <td>-0.028046</td>\n",
       "      <td>0.137230</td>\n",
       "      <td>0.421741</td>\n",
       "      <td>-0.436757</td>\n",
       "      <td>-0.430696</td>\n",
       "      <td>0.345877</td>\n",
       "      <td>-0.391724</td>\n",
       "      <td>-0.344029</td>\n",
       "      <td>1.000000</td>\n",
       "    </tr>\n",
       "  </tbody>\n",
       "</table>\n",
       "</div>"
      ],
      "text/plain": [
       "               age       sex        cp  trestbps      chol       fbs  \\\n",
       "age       1.000000 -0.098447 -0.068653  0.279351  0.213678  0.121308   \n",
       "sex      -0.098447  1.000000 -0.049353 -0.056769 -0.197912  0.045032   \n",
       "cp       -0.068653 -0.049353  1.000000  0.047608 -0.076904  0.094444   \n",
       "trestbps  0.279351 -0.056769  0.047608  1.000000  0.123174  0.177531   \n",
       "chol      0.213678 -0.197912 -0.076904  0.123174  1.000000  0.013294   \n",
       "fbs       0.121308  0.045032  0.094444  0.177531  0.013294  1.000000   \n",
       "restecg  -0.116211 -0.058196  0.044421 -0.114103 -0.151040 -0.084189   \n",
       "thalach  -0.398522 -0.044020  0.295762 -0.046698 -0.009940 -0.008567   \n",
       "exang     0.096801  0.141664 -0.394280  0.067616  0.067023  0.025665   \n",
       "oldpeak   0.210013  0.096093 -0.149230  0.193216  0.053952  0.005747   \n",
       "slope    -0.168814 -0.030711  0.119717 -0.121475 -0.004038 -0.059894   \n",
       "ca        0.276326  0.118261 -0.181053  0.101389  0.070511  0.137979   \n",
       "thal      0.068001  0.210041 -0.161736  0.062210  0.098803 -0.032019   \n",
       "target   -0.225439 -0.280937  0.433798 -0.144931 -0.085239 -0.028046   \n",
       "\n",
       "           restecg   thalach     exang   oldpeak     slope        ca  \\\n",
       "age      -0.116211 -0.398522  0.096801  0.210013 -0.168814  0.276326   \n",
       "sex      -0.058196 -0.044020  0.141664  0.096093 -0.030711  0.118261   \n",
       "cp        0.044421  0.295762 -0.394280 -0.149230  0.119717 -0.181053   \n",
       "trestbps -0.114103 -0.046698  0.067616  0.193216 -0.121475  0.101389   \n",
       "chol     -0.151040 -0.009940  0.067023  0.053952 -0.004038  0.070511   \n",
       "fbs      -0.084189 -0.008567  0.025665  0.005747 -0.059894  0.137979   \n",
       "restecg   1.000000  0.044123 -0.070733 -0.058770  0.093045 -0.072042   \n",
       "thalach   0.044123  1.000000 -0.378812 -0.344187  0.386784 -0.213177   \n",
       "exang    -0.070733 -0.378812  1.000000  0.288223 -0.257748  0.115739   \n",
       "oldpeak  -0.058770 -0.344187  0.288223  1.000000 -0.577537  0.222682   \n",
       "slope     0.093045  0.386784 -0.257748 -0.577537  1.000000 -0.080155   \n",
       "ca       -0.072042 -0.213177  0.115739  0.222682 -0.080155  1.000000   \n",
       "thal     -0.011981 -0.096439  0.206754  0.210244 -0.104764  0.151832   \n",
       "target    0.137230  0.421741 -0.436757 -0.430696  0.345877 -0.391724   \n",
       "\n",
       "              thal    target  \n",
       "age       0.068001 -0.225439  \n",
       "sex       0.210041 -0.280937  \n",
       "cp       -0.161736  0.433798  \n",
       "trestbps  0.062210 -0.144931  \n",
       "chol      0.098803 -0.085239  \n",
       "fbs      -0.032019 -0.028046  \n",
       "restecg  -0.011981  0.137230  \n",
       "thalach  -0.096439  0.421741  \n",
       "exang     0.206754 -0.436757  \n",
       "oldpeak   0.210244 -0.430696  \n",
       "slope    -0.104764  0.345877  \n",
       "ca        0.151832 -0.391724  \n",
       "thal      1.000000 -0.344029  \n",
       "target   -0.344029  1.000000  "
      ]
     },
     "execution_count": 22,
     "metadata": {},
     "output_type": "execute_result"
    }
   ],
   "source": [
    "df.corr()"
   ]
  },
  {
   "cell_type": "code",
   "execution_count": 23,
   "id": "46ce705e-5361-43dc-9cad-20f94dffcd99",
   "metadata": {},
   "outputs": [
    {
     "data": {
      "image/png": "[encoded data removed]",
      "text/plain": [
       "<Figure size 1500x1000 with 2 Axes>"
      ]
     },
     "metadata": {},
     "output_type": "display_data"
    }
   ],
   "source": [
    "# Let's make our correlation matrix little prettier\n",
    "\n",
    "corr_matrix = df.corr()\n",
    "fig,ax = plt.subplots(figsize=(15,10))\n",
    "ax = sns.heatmap(corr_matrix,\n",
    "                 annot=True,\n",
    "                 linewidths=0.5,\n",
    "                 fmt='.2f',\n",
    "                 cmap='inferno');# cmap = 'YlGnBu'"
   ]
  },
  {
   "cell_type": "markdown",
   "id": "b1461f25-22d5-45c5-9a15-27147339e7e6",
   "metadata": {},
   "source": [
    "## 5. Modelling"
   ]
  },
  {
   "cell_type": "code",
   "execution_count": 24,
   "id": "eee78102-32d0-41de-b71f-86f9c6eb5674",
   "metadata": {},
   "outputs": [
    {
     "data": {
      "text/html": [
       "<div>\n",
       "<style scoped>\n",
       "    .dataframe tbody tr th:only-of-type {\n",
       "        vertical-align: middle;\n",
       "    }\n",
       "\n",
       "    .dataframe tbody tr th {\n",
       "        vertical-align: top;\n",
       "    }\n",
       "\n",
       "    .dataframe thead th {\n",
       "        text-align: right;\n",
       "    }\n",
       "</style>\n",
       "<table border=\"1\" class=\"dataframe\">\n",
       "  <thead>\n",
       "    <tr style=\"text-align: right;\">\n",
       "      <th></th>\n",
       "      <th>age</th>\n",
       "      <th>sex</th>\n",
       "      <th>cp</th>\n",
       "      <th>trestbps</th>\n",
       "      <th>chol</th>\n",
       "      <th>fbs</th>\n",
       "      <th>restecg</th>\n",
       "      <th>thalach</th>\n",
       "      <th>exang</th>\n",
       "      <th>oldpeak</th>\n",
       "      <th>slope</th>\n",
       "      <th>ca</th>\n",
       "      <th>thal</th>\n",
       "      <th>target</th>\n",
       "    </tr>\n",
       "  </thead>\n",
       "  <tbody>\n",
       "    <tr>\n",
       "      <th>0</th>\n",
       "      <td>63</td>\n",
       "      <td>1</td>\n",
       "      <td>3</td>\n",
       "      <td>145</td>\n",
       "      <td>233</td>\n",
       "      <td>1</td>\n",
       "      <td>0</td>\n",
       "      <td>150</td>\n",
       "      <td>0</td>\n",
       "      <td>2.3</td>\n",
       "      <td>0</td>\n",
       "      <td>0</td>\n",
       "      <td>1</td>\n",
       "      <td>1</td>\n",
       "    </tr>\n",
       "    <tr>\n",
       "      <th>1</th>\n",
       "      <td>37</td>\n",
       "      <td>1</td>\n",
       "      <td>2</td>\n",
       "      <td>130</td>\n",
       "      <td>250</td>\n",
       "      <td>0</td>\n",
       "      <td>1</td>\n",
       "      <td>187</td>\n",
       "      <td>0</td>\n",
       "      <td>3.5</td>\n",
       "      <td>0</td>\n",
       "      <td>0</td>\n",
       "      <td>2</td>\n",
       "      <td>1</td>\n",
       "    </tr>\n",
       "    <tr>\n",
       "      <th>2</th>\n",
       "      <td>41</td>\n",
       "      <td>0</td>\n",
       "      <td>1</td>\n",
       "      <td>130</td>\n",
       "      <td>204</td>\n",
       "      <td>0</td>\n",
       "      <td>0</td>\n",
       "      <td>172</td>\n",
       "      <td>0</td>\n",
       "      <td>1.4</td>\n",
       "      <td>2</td>\n",
       "      <td>0</td>\n",
       "      <td>2</td>\n",
       "      <td>1</td>\n",
       "    </tr>\n",
       "    <tr>\n",
       "      <th>3</th>\n",
       "      <td>56</td>\n",
       "      <td>1</td>\n",
       "      <td>1</td>\n",
       "      <td>120</td>\n",
       "      <td>236</td>\n",
       "      <td>0</td>\n",
       "      <td>1</td>\n",
       "      <td>178</td>\n",
       "      <td>0</td>\n",
       "      <td>0.8</td>\n",
       "      <td>2</td>\n",
       "      <td>0</td>\n",
       "      <td>2</td>\n",
       "      <td>1</td>\n",
       "    </tr>\n",
       "    <tr>\n",
       "      <th>4</th>\n",
       "      <td>57</td>\n",
       "      <td>0</td>\n",
       "      <td>0</td>\n",
       "      <td>120</td>\n",
       "      <td>354</td>\n",
       "      <td>0</td>\n",
       "      <td>1</td>\n",
       "      <td>163</td>\n",
       "      <td>1</td>\n",
       "      <td>0.6</td>\n",
       "      <td>2</td>\n",
       "      <td>0</td>\n",
       "      <td>2</td>\n",
       "      <td>1</td>\n",
       "    </tr>\n",
       "  </tbody>\n",
       "</table>\n",
       "</div>"
      ],
      "text/plain": [
       "   age  sex  cp  trestbps  chol  fbs  restecg  thalach  exang  oldpeak  slope  \\\n",
       "0   63    1   3       145   233    1        0      150      0      2.3      0   \n",
       "1   37    1   2       130   250    0        1      187      0      3.5      0   \n",
       "2   41    0   1       130   204    0        0      172      0      1.4      2   \n",
       "3   56    1   1       120   236    0        1      178      0      0.8      2   \n",
       "4   57    0   0       120   354    0        1      163      1      0.6      2   \n",
       "\n",
       "   ca  thal  target  \n",
       "0   0     1       1  \n",
       "1   0     2       1  \n",
       "2   0     2       1  \n",
       "3   0     2       1  \n",
       "4   0     2       1  "
      ]
     },
     "execution_count": 24,
     "metadata": {},
     "output_type": "execute_result"
    }
   ],
   "source": [
    "df.head()"
   ]
  },
  {
   "cell_type": "code",
   "execution_count": 25,
   "id": "3b8dbde6-7bbd-480c-9275-bc02babbca52",
   "metadata": {},
   "outputs": [],
   "source": [
    "# Split the data into x and y \n",
    "\n",
    "x = df.drop(\"target\",axis=1)\n",
    "y = df[\"target\"]"
   ]
  },
  {
   "cell_type": "code",
   "execution_count": 26,
   "id": "e9f232bf-c8d0-4060-b46d-a62e01faca9a",
   "metadata": {},
   "outputs": [
    {
     "data": {
      "text/html": [
       "<div>\n",
       "<style scoped>\n",
       "    .dataframe tbody tr th:only-of-type {\n",
       "        vertical-align: middle;\n",
       "    }\n",
       "\n",
       "    .dataframe tbody tr th {\n",
       "        vertical-align: top;\n",
       "    }\n",
       "\n",
       "    .dataframe thead th {\n",
       "        text-align: right;\n",
       "    }\n",
       "</style>\n",
       "<table border=\"1\" class=\"dataframe\">\n",
       "  <thead>\n",
       "    <tr style=\"text-align: right;\">\n",
       "      <th></th>\n",
       "      <th>age</th>\n",
       "      <th>sex</th>\n",
       "      <th>cp</th>\n",
       "      <th>trestbps</th>\n",
       "      <th>chol</th>\n",
       "      <th>fbs</th>\n",
       "      <th>restecg</th>\n",
       "      <th>thalach</th>\n",
       "      <th>exang</th>\n",
       "      <th>oldpeak</th>\n",
       "      <th>slope</th>\n",
       "      <th>ca</th>\n",
       "      <th>thal</th>\n",
       "    </tr>\n",
       "  </thead>\n",
       "  <tbody>\n",
       "    <tr>\n",
       "      <th>0</th>\n",
       "      <td>63</td>\n",
       "      <td>1</td>\n",
       "      <td>3</td>\n",
       "      <td>145</td>\n",
       "      <td>233</td>\n",
       "      <td>1</td>\n",
       "      <td>0</td>\n",
       "      <td>150</td>\n",
       "      <td>0</td>\n",
       "      <td>2.3</td>\n",
       "      <td>0</td>\n",
       "      <td>0</td>\n",
       "      <td>1</td>\n",
       "    </tr>\n",
       "    <tr>\n",
       "      <th>1</th>\n",
       "      <td>37</td>\n",
       "      <td>1</td>\n",
       "      <td>2</td>\n",
       "      <td>130</td>\n",
       "      <td>250</td>\n",
       "      <td>0</td>\n",
       "      <td>1</td>\n",
       "      <td>187</td>\n",
       "      <td>0</td>\n",
       "      <td>3.5</td>\n",
       "      <td>0</td>\n",
       "      <td>0</td>\n",
       "      <td>2</td>\n",
       "    </tr>\n",
       "    <tr>\n",
       "      <th>2</th>\n",
       "      <td>41</td>\n",
       "      <td>0</td>\n",
       "      <td>1</td>\n",
       "      <td>130</td>\n",
       "      <td>204</td>\n",
       "      <td>0</td>\n",
       "      <td>0</td>\n",
       "      <td>172</td>\n",
       "      <td>0</td>\n",
       "      <td>1.4</td>\n",
       "      <td>2</td>\n",
       "      <td>0</td>\n",
       "      <td>2</td>\n",
       "    </tr>\n",
       "    <tr>\n",
       "      <th>3</th>\n",
       "      <td>56</td>\n",
       "      <td>1</td>\n",
       "      <td>1</td>\n",
       "      <td>120</td>\n",
       "      <td>236</td>\n",
       "      <td>0</td>\n",
       "      <td>1</td>\n",
       "      <td>178</td>\n",
       "      <td>0</td>\n",
       "      <td>0.8</td>\n",
       "      <td>2</td>\n",
       "      <td>0</td>\n",
       "      <td>2</td>\n",
       "    </tr>\n",
       "    <tr>\n",
       "      <th>4</th>\n",
       "      <td>57</td>\n",
       "      <td>0</td>\n",
       "      <td>0</td>\n",
       "      <td>120</td>\n",
       "      <td>354</td>\n",
       "      <td>0</td>\n",
       "      <td>1</td>\n",
       "      <td>163</td>\n",
       "      <td>1</td>\n",
       "      <td>0.6</td>\n",
       "      <td>2</td>\n",
       "      <td>0</td>\n",
       "      <td>2</td>\n",
       "    </tr>\n",
       "    <tr>\n",
       "      <th>...</th>\n",
       "      <td>...</td>\n",
       "      <td>...</td>\n",
       "      <td>...</td>\n",
       "      <td>...</td>\n",
       "      <td>...</td>\n",
       "      <td>...</td>\n",
       "      <td>...</td>\n",
       "      <td>...</td>\n",
       "      <td>...</td>\n",
       "      <td>...</td>\n",
       "      <td>...</td>\n",
       "      <td>...</td>\n",
       "      <td>...</td>\n",
       "    </tr>\n",
       "    <tr>\n",
       "      <th>298</th>\n",
       "      <td>57</td>\n",
       "      <td>0</td>\n",
       "      <td>0</td>\n",
       "      <td>140</td>\n",
       "      <td>241</td>\n",
       "      <td>0</td>\n",
       "      <td>1</td>\n",
       "      <td>123</td>\n",
       "      <td>1</td>\n",
       "      <td>0.2</td>\n",
       "      <td>1</td>\n",
       "      <td>0</td>\n",
       "      <td>3</td>\n",
       "    </tr>\n",
       "    <tr>\n",
       "      <th>299</th>\n",
       "      <td>45</td>\n",
       "      <td>1</td>\n",
       "      <td>3</td>\n",
       "      <td>110</td>\n",
       "      <td>264</td>\n",
       "      <td>0</td>\n",
       "      <td>1</td>\n",
       "      <td>132</td>\n",
       "      <td>0</td>\n",
       "      <td>1.2</td>\n",
       "      <td>1</td>\n",
       "      <td>0</td>\n",
       "      <td>3</td>\n",
       "    </tr>\n",
       "    <tr>\n",
       "      <th>300</th>\n",
       "      <td>68</td>\n",
       "      <td>1</td>\n",
       "      <td>0</td>\n",
       "      <td>144</td>\n",
       "      <td>193</td>\n",
       "      <td>1</td>\n",
       "      <td>1</td>\n",
       "      <td>141</td>\n",
       "      <td>0</td>\n",
       "      <td>3.4</td>\n",
       "      <td>1</td>\n",
       "      <td>2</td>\n",
       "      <td>3</td>\n",
       "    </tr>\n",
       "    <tr>\n",
       "      <th>301</th>\n",
       "      <td>57</td>\n",
       "      <td>1</td>\n",
       "      <td>0</td>\n",
       "      <td>130</td>\n",
       "      <td>131</td>\n",
       "      <td>0</td>\n",
       "      <td>1</td>\n",
       "      <td>115</td>\n",
       "      <td>1</td>\n",
       "      <td>1.2</td>\n",
       "      <td>1</td>\n",
       "      <td>1</td>\n",
       "      <td>3</td>\n",
       "    </tr>\n",
       "    <tr>\n",
       "      <th>302</th>\n",
       "      <td>57</td>\n",
       "      <td>0</td>\n",
       "      <td>1</td>\n",
       "      <td>130</td>\n",
       "      <td>236</td>\n",
       "      <td>0</td>\n",
       "      <td>0</td>\n",
       "      <td>174</td>\n",
       "      <td>0</td>\n",
       "      <td>0.0</td>\n",
       "      <td>1</td>\n",
       "      <td>1</td>\n",
       "      <td>2</td>\n",
       "    </tr>\n",
       "  </tbody>\n",
       "</table>\n",
       "<p>303 rows × 13 columns</p>\n",
       "</div>"
      ],
      "text/plain": [
       "     age  sex  cp  trestbps  chol  fbs  restecg  thalach  exang  oldpeak  \\\n",
       "0     63    1   3       145   233    1        0      150      0      2.3   \n",
       "1     37    1   2       130   250    0        1      187      0      3.5   \n",
       "2     41    0   1       130   204    0        0      172      0      1.4   \n",
       "3     56    1   1       120   236    0        1      178      0      0.8   \n",
       "4     57    0   0       120   354    0        1      163      1      0.6   \n",
       "..   ...  ...  ..       ...   ...  ...      ...      ...    ...      ...   \n",
       "298   57    0   0       140   241    0        1      123      1      0.2   \n",
       "299   45    1   3       110   264    0        1      132      0      1.2   \n",
       "300   68    1   0       144   193    1        1      141      0      3.4   \n",
       "301   57    1   0       130   131    0        1      115      1      1.2   \n",
       "302   57    0   1       130   236    0        0      174      0      0.0   \n",
       "\n",
       "     slope  ca  thal  \n",
       "0        0   0     1  \n",
       "1        0   0     2  \n",
       "2        2   0     2  \n",
       "3        2   0     2  \n",
       "4        2   0     2  \n",
       "..     ...  ..   ...  \n",
       "298      1   0     3  \n",
       "299      1   0     3  \n",
       "300      1   2     3  \n",
       "301      1   1     3  \n",
       "302      1   1     2  \n",
       "\n",
       "[303 rows x 13 columns]"
      ]
     },
     "execution_count": 26,
     "metadata": {},
     "output_type": "execute_result"
    }
   ],
   "source": [
    "x"
   ]
  },
  {
   "cell_type": "code",
   "execution_count": 27,
   "id": "22b7bf0e-74c1-4f2a-a34a-c7a6abce3fc6",
   "metadata": {},
   "outputs": [
    {
     "data": {
      "text/plain": [
       "0      1\n",
       "1      1\n",
       "2      1\n",
       "3      1\n",
       "4      1\n",
       "      ..\n",
       "298    0\n",
       "299    0\n",
       "300    0\n",
       "301    0\n",
       "302    0\n",
       "Name: target, Length: 303, dtype: int64"
      ]
     },
     "execution_count": 27,
     "metadata": {},
     "output_type": "execute_result"
    }
   ],
   "source": [
    "y"
   ]
  },
  {
   "cell_type": "code",
   "execution_count": 28,
   "id": "e89dcb2c-1073-4caa-9e76-e25a15ec8ee1",
   "metadata": {},
   "outputs": [],
   "source": [
    "# Split into train and test set\n",
    "\n",
    "x_train,x_test,y_train,y_test = train_test_split(x,y,test_size=0.2)"
   ]
  },
  {
   "cell_type": "code",
   "execution_count": 29,
   "id": "9e399758-550b-4040-a2f7-5c977551b0c3",
   "metadata": {},
   "outputs": [
    {
     "data": {
      "text/html": [
       "<div>\n",
       "<style scoped>\n",
       "    .dataframe tbody tr th:only-of-type {\n",
       "        vertical-align: middle;\n",
       "    }\n",
       "\n",
       "    .dataframe tbody tr th {\n",
       "        vertical-align: top;\n",
       "    }\n",
       "\n",
       "    .dataframe thead th {\n",
       "        text-align: right;\n",
       "    }\n",
       "</style>\n",
       "<table border=\"1\" class=\"dataframe\">\n",
       "  <thead>\n",
       "    <tr style=\"text-align: right;\">\n",
       "      <th></th>\n",
       "      <th>age</th>\n",
       "      <th>sex</th>\n",
       "      <th>cp</th>\n",
       "      <th>trestbps</th>\n",
       "      <th>chol</th>\n",
       "      <th>fbs</th>\n",
       "      <th>restecg</th>\n",
       "      <th>thalach</th>\n",
       "      <th>exang</th>\n",
       "      <th>oldpeak</th>\n",
       "      <th>slope</th>\n",
       "      <th>ca</th>\n",
       "      <th>thal</th>\n",
       "    </tr>\n",
       "  </thead>\n",
       "  <tbody>\n",
       "    <tr>\n",
       "      <th>130</th>\n",
       "      <td>54</td>\n",
       "      <td>0</td>\n",
       "      <td>2</td>\n",
       "      <td>160</td>\n",
       "      <td>201</td>\n",
       "      <td>0</td>\n",
       "      <td>1</td>\n",
       "      <td>163</td>\n",
       "      <td>0</td>\n",
       "      <td>0.0</td>\n",
       "      <td>2</td>\n",
       "      <td>1</td>\n",
       "      <td>2</td>\n",
       "    </tr>\n",
       "    <tr>\n",
       "      <th>112</th>\n",
       "      <td>64</td>\n",
       "      <td>0</td>\n",
       "      <td>2</td>\n",
       "      <td>140</td>\n",
       "      <td>313</td>\n",
       "      <td>0</td>\n",
       "      <td>1</td>\n",
       "      <td>133</td>\n",
       "      <td>0</td>\n",
       "      <td>0.2</td>\n",
       "      <td>2</td>\n",
       "      <td>0</td>\n",
       "      <td>3</td>\n",
       "    </tr>\n",
       "    <tr>\n",
       "      <th>172</th>\n",
       "      <td>58</td>\n",
       "      <td>1</td>\n",
       "      <td>1</td>\n",
       "      <td>120</td>\n",
       "      <td>284</td>\n",
       "      <td>0</td>\n",
       "      <td>0</td>\n",
       "      <td>160</td>\n",
       "      <td>0</td>\n",
       "      <td>1.8</td>\n",
       "      <td>1</td>\n",
       "      <td>0</td>\n",
       "      <td>2</td>\n",
       "    </tr>\n",
       "    <tr>\n",
       "      <th>168</th>\n",
       "      <td>63</td>\n",
       "      <td>1</td>\n",
       "      <td>0</td>\n",
       "      <td>130</td>\n",
       "      <td>254</td>\n",
       "      <td>0</td>\n",
       "      <td>0</td>\n",
       "      <td>147</td>\n",
       "      <td>0</td>\n",
       "      <td>1.4</td>\n",
       "      <td>1</td>\n",
       "      <td>1</td>\n",
       "      <td>3</td>\n",
       "    </tr>\n",
       "    <tr>\n",
       "      <th>66</th>\n",
       "      <td>51</td>\n",
       "      <td>1</td>\n",
       "      <td>2</td>\n",
       "      <td>100</td>\n",
       "      <td>222</td>\n",
       "      <td>0</td>\n",
       "      <td>1</td>\n",
       "      <td>143</td>\n",
       "      <td>1</td>\n",
       "      <td>1.2</td>\n",
       "      <td>1</td>\n",
       "      <td>0</td>\n",
       "      <td>2</td>\n",
       "    </tr>\n",
       "    <tr>\n",
       "      <th>...</th>\n",
       "      <td>...</td>\n",
       "      <td>...</td>\n",
       "      <td>...</td>\n",
       "      <td>...</td>\n",
       "      <td>...</td>\n",
       "      <td>...</td>\n",
       "      <td>...</td>\n",
       "      <td>...</td>\n",
       "      <td>...</td>\n",
       "      <td>...</td>\n",
       "      <td>...</td>\n",
       "      <td>...</td>\n",
       "      <td>...</td>\n",
       "    </tr>\n",
       "    <tr>\n",
       "      <th>265</th>\n",
       "      <td>66</td>\n",
       "      <td>1</td>\n",
       "      <td>0</td>\n",
       "      <td>112</td>\n",
       "      <td>212</td>\n",
       "      <td>0</td>\n",
       "      <td>0</td>\n",
       "      <td>132</td>\n",
       "      <td>1</td>\n",
       "      <td>0.1</td>\n",
       "      <td>2</td>\n",
       "      <td>1</td>\n",
       "      <td>2</td>\n",
       "    </tr>\n",
       "    <tr>\n",
       "      <th>39</th>\n",
       "      <td>65</td>\n",
       "      <td>0</td>\n",
       "      <td>2</td>\n",
       "      <td>160</td>\n",
       "      <td>360</td>\n",
       "      <td>0</td>\n",
       "      <td>0</td>\n",
       "      <td>151</td>\n",
       "      <td>0</td>\n",
       "      <td>0.8</td>\n",
       "      <td>2</td>\n",
       "      <td>0</td>\n",
       "      <td>2</td>\n",
       "    </tr>\n",
       "    <tr>\n",
       "      <th>140</th>\n",
       "      <td>51</td>\n",
       "      <td>0</td>\n",
       "      <td>2</td>\n",
       "      <td>120</td>\n",
       "      <td>295</td>\n",
       "      <td>0</td>\n",
       "      <td>0</td>\n",
       "      <td>157</td>\n",
       "      <td>0</td>\n",
       "      <td>0.6</td>\n",
       "      <td>2</td>\n",
       "      <td>0</td>\n",
       "      <td>2</td>\n",
       "    </tr>\n",
       "    <tr>\n",
       "      <th>27</th>\n",
       "      <td>51</td>\n",
       "      <td>1</td>\n",
       "      <td>2</td>\n",
       "      <td>110</td>\n",
       "      <td>175</td>\n",
       "      <td>0</td>\n",
       "      <td>1</td>\n",
       "      <td>123</td>\n",
       "      <td>0</td>\n",
       "      <td>0.6</td>\n",
       "      <td>2</td>\n",
       "      <td>0</td>\n",
       "      <td>2</td>\n",
       "    </tr>\n",
       "    <tr>\n",
       "      <th>243</th>\n",
       "      <td>57</td>\n",
       "      <td>1</td>\n",
       "      <td>0</td>\n",
       "      <td>152</td>\n",
       "      <td>274</td>\n",
       "      <td>0</td>\n",
       "      <td>1</td>\n",
       "      <td>88</td>\n",
       "      <td>1</td>\n",
       "      <td>1.2</td>\n",
       "      <td>1</td>\n",
       "      <td>1</td>\n",
       "      <td>3</td>\n",
       "    </tr>\n",
       "  </tbody>\n",
       "</table>\n",
       "<p>242 rows × 13 columns</p>\n",
       "</div>"
      ],
      "text/plain": [
       "     age  sex  cp  trestbps  chol  fbs  restecg  thalach  exang  oldpeak  \\\n",
       "130   54    0   2       160   201    0        1      163      0      0.0   \n",
       "112   64    0   2       140   313    0        1      133      0      0.2   \n",
       "172   58    1   1       120   284    0        0      160      0      1.8   \n",
       "168   63    1   0       130   254    0        0      147      0      1.4   \n",
       "66    51    1   2       100   222    0        1      143      1      1.2   \n",
       "..   ...  ...  ..       ...   ...  ...      ...      ...    ...      ...   \n",
       "265   66    1   0       112   212    0        0      132      1      0.1   \n",
       "39    65    0   2       160   360    0        0      151      0      0.8   \n",
       "140   51    0   2       120   295    0        0      157      0      0.6   \n",
       "27    51    1   2       110   175    0        1      123      0      0.6   \n",
       "243   57    1   0       152   274    0        1       88      1      1.2   \n",
       "\n",
       "     slope  ca  thal  \n",
       "130      2   1     2  \n",
       "112      2   0     3  \n",
       "172      1   0     2  \n",
       "168      1   1     3  \n",
       "66       1   0     2  \n",
       "..     ...  ..   ...  \n",
       "265      2   1     2  \n",
       "39       2   0     2  \n",
       "140      2   0     2  \n",
       "27       2   0     2  \n",
       "243      1   1     3  \n",
       "\n",
       "[242 rows x 13 columns]"
      ]
     },
     "execution_count": 29,
     "metadata": {},
     "output_type": "execute_result"
    }
   ],
   "source": [
    "x_train"
   ]
  },
  {
   "cell_type": "code",
   "execution_count": 30,
   "id": "df54b7f8-6b83-4ade-8dd2-b71342be18c0",
   "metadata": {},
   "outputs": [
    {
     "data": {
      "text/plain": [
       "130    1\n",
       "112    1\n",
       "172    0\n",
       "168    0\n",
       "66     1\n",
       "      ..\n",
       "265    0\n",
       "39     1\n",
       "140    1\n",
       "27     1\n",
       "243    0\n",
       "Name: target, Length: 242, dtype: int64"
      ]
     },
     "execution_count": 30,
     "metadata": {},
     "output_type": "execute_result"
    }
   ],
   "source": [
    "y_train"
   ]
  },
  {
   "cell_type": "code",
   "execution_count": 31,
   "id": "3d370462-80f2-47e9-9e48-0591cf61f866",
   "metadata": {},
   "outputs": [
    {
     "data": {
      "text/plain": [
       "242"
      ]
     },
     "execution_count": 31,
     "metadata": {},
     "output_type": "execute_result"
    }
   ],
   "source": [
    "len(y_train)"
   ]
  },
  {
   "cell_type": "markdown",
   "id": "ca0d6b76-0252-4a77-b0f9-851990aa8be8",
   "metadata": {},
   "source": [
    "Now we have got our data split into train and test sets,it's time to build a machine learning model.\n",
    "\n",
    "We'll train it (find the patterns) on the training set.\n",
    "\n",
    "And we'll test it (use the patterns) on the test set.\n",
    "\n",
    "We're going to try 3 different machine learning models:\n",
    "\n",
    "1. Logistic Regression\n",
    "2. K-Nearest Neighbours Classifier\n",
    "3. Random Forest Classifier"
   ]
  },
  {
   "cell_type": "code",
   "execution_count": 32,
   "id": "e5f1faa4-7831-4c28-a3d9-90c92a19e90d",
   "metadata": {},
   "outputs": [],
   "source": [
    "# put model into a dictionary\n",
    "\n",
    "models = {\"Logistic Regression\":LogisticRegression(),\n",
    "          \"RandomForestClassifier\":RandomForestClassifier(),\n",
    "          \"KNN\":KNeighborsClassifier()}\n",
    "\n",
    "# create a model to fit and and score models\n",
    "\n",
    "def fit_and_score(models,x_train,x_test,y_train,y_test):\n",
    "    \"\"\"\"\n",
    "    Fits and evaluates the given machine learning models.\n",
    "    models: A dict of different sklearn machine learning models\n",
    "    x_train: training data (no labels)\n",
    "    x_test: testing data(no labels)\n",
    "    y_train: training labels\n",
    "    y_test: test labels\n",
    "    \n",
    "    \"\"\"\n",
    "    # set up random seed\n",
    "    np.random.seed(42)\n",
    "    # make the dictionary to keep model scores\n",
    "    model_scores={ }\n",
    "    # Loop through models\n",
    "    for name, model in models.items():\n",
    "        # Fit the model to data\n",
    "        model.fit(x_train,y_train)\n",
    "        # Evaluate the model and append its score to model_scores\n",
    "        model_scores[name] = model.score(x_test,y_test)\n",
    "    return model_scores"
   ]
  },
  {
   "cell_type": "code",
   "execution_count": 33,
   "id": "e9a11486-1419-4bb3-bcef-74510a88dcc6",
   "metadata": {},
   "outputs": [
    {
     "name": "stderr",
     "output_type": "stream",
     "text": [
      "/home/akash/anaconda3/envs/Machine_learning/lib/python3.12/site-packages/sklearn/linear_model/_logistic.py:460: ConvergenceWarning: lbfgs failed to converge (status=1):\n",
      "STOP: TOTAL NO. of ITERATIONS REACHED LIMIT.\n",
      "\n",
      "Increase the number of iterations (max_iter) or scale the data as shown in:\n",
      "    https://scikit-learn.org/stable/modules/preprocessing.html\n",
      "Please also refer to the documentation for alternative solver options:\n",
      "    https://scikit-learn.org/stable/modules/linear_model.html#logistic-regression\n",
      "  n_iter_i = _check_optimize_result(\n"
     ]
    },
    {
     "name": "stdout",
     "output_type": "stream",
     "text": [
      "{'Logistic Regression': 0.819672131147541, 'RandomForestClassifier': 0.8032786885245902, 'KNN': 0.639344262295082}\n"
     ]
    }
   ],
   "source": [
    "model_scores =  fit_and_score(models=models,\n",
    "                             x_train=x_train,\n",
    "                             x_test=x_test,\n",
    "                             y_train=y_train,\n",
    "                             y_test=y_test)\n",
    "\n",
    "print(model_scores)"
   ]
  },
  {
   "cell_type": "markdown",
   "id": "ed14d2b0-19d9-42e2-9aaf-752fe75da192",
   "metadata": {},
   "source": [
    "## Model Comparision"
   ]
  },
  {
   "cell_type": "code",
   "execution_count": 34,
   "id": "7e2cfaf3-da4a-44ce-a7e6-908cdc5fc846",
   "metadata": {},
   "outputs": [
    {
     "data": {
      "image/png": "[encoded data removed]",
      "text/plain": [
       "<Figure size 640x480 with 1 Axes>"
      ]
     },
     "metadata": {},
     "output_type": "display_data"
    }
   ],
   "source": [
    "model_compare = pd.DataFrame(model_scores,index=[\"Accuracy\"])\n",
    "model_compare.T.plot.bar(); # transposing and plotting"
   ]
  },
  {
   "cell_type": "markdown",
   "id": "1b4f81df-99fb-4842-b544-6e7a87004103",
   "metadata": {},
   "source": [
    "Now we have got a baseline model and we know a model's first prediction are'nt always what we should based our next steps off. What should we do?\n",
    "\n",
    "Let's look at the following:\n",
    "* Hyperparameter tuning\n",
    "* Feature Importance\n",
    "* Confusion Matrix\n",
    "* Cross Validation\n",
    "* Precision\n",
    "* Recall\n",
    "* F1 score\n",
    "* classification report\n",
    "* ROC Curve\n",
    "* Area under the curve(AUC)\n",
    "\n",
    "## Hyperparameter Tuning (by hand)"
   ]
  },
  {
   "cell_type": "code",
   "execution_count": 35,
   "id": "bdde8b24-174e-4ef8-a32c-2e060a226d66",
   "metadata": {},
   "outputs": [],
   "source": [
    "# Let's tune KNN\n",
    "\n",
    "train_scores = []\n",
    "test_scores = []\n",
    "\n",
    "# Create a list of different values for n_neighbors\n",
    "neighbors = range(1,21)\n",
    "\n",
    "# setup KNN instance\n",
    "knn = KNeighborsClassifier()\n",
    "\n",
    "# loop through differnt n_neighbors\n",
    "for i in neighbors:\n",
    "    knn.set_params(n_neighbors=i)\n",
    "    \n",
    "    # Fit the algorithm\n",
    "    knn.fit(x_train,y_train)\n",
    "    \n",
    "    # Update the training scores list\n",
    "    train_scores.append(knn.score(x_train,y_train))\n",
    "    \n",
    "    # Update the test scores list\n",
    "    test_scores.append(knn.score(x_test,y_test))\n",
    "    \n",
    "    "
   ]
  },
  {
   "cell_type": "code",
   "execution_count": 36,
   "id": "9c565e76-4825-43a0-92af-c642a7919bed",
   "metadata": {},
   "outputs": [
    {
     "data": {
      "text/plain": [
       "[1.0,\n",
       " 0.7933884297520661,\n",
       " 0.7727272727272727,\n",
       " 0.756198347107438,\n",
       " 0.7644628099173554,\n",
       " 0.7355371900826446,\n",
       " 0.7355371900826446,\n",
       " 0.7024793388429752,\n",
       " 0.7231404958677686,\n",
       " 0.7024793388429752,\n",
       " 0.7355371900826446,\n",
       " 0.731404958677686,\n",
       " 0.743801652892562,\n",
       " 0.71900826446281,\n",
       " 0.7148760330578512,\n",
       " 0.71900826446281,\n",
       " 0.7024793388429752,\n",
       " 0.7148760330578512,\n",
       " 0.7272727272727273,\n",
       " 0.7231404958677686]"
      ]
     },
     "execution_count": 36,
     "metadata": {},
     "output_type": "execute_result"
    }
   ],
   "source": [
    "train_scores"
   ]
  },
  {
   "cell_type": "code",
   "execution_count": 37,
   "id": "08bfd825-0123-4610-a43e-cf726c8bdf4c",
   "metadata": {},
   "outputs": [
    {
     "data": {
      "text/plain": [
       "[0.5737704918032787,\n",
       " 0.639344262295082,\n",
       " 0.6229508196721312,\n",
       " 0.6721311475409836,\n",
       " 0.639344262295082,\n",
       " 0.6721311475409836,\n",
       " 0.6557377049180327,\n",
       " 0.6557377049180327,\n",
       " 0.6557377049180327,\n",
       " 0.6885245901639344,\n",
       " 0.639344262295082,\n",
       " 0.6557377049180327,\n",
       " 0.6065573770491803,\n",
       " 0.639344262295082,\n",
       " 0.5901639344262295,\n",
       " 0.6065573770491803,\n",
       " 0.6065573770491803,\n",
       " 0.6229508196721312,\n",
       " 0.5901639344262295,\n",
       " 0.6557377049180327]"
      ]
     },
     "execution_count": 37,
     "metadata": {},
     "output_type": "execute_result"
    }
   ],
   "source": [
    "test_scores"
   ]
  },
  {
   "cell_type": "code",
   "execution_count": 38,
   "id": "123f6001-3343-40d6-a488-010eb1804bd5",
   "metadata": {},
   "outputs": [
    {
     "name": "stdout",
     "output_type": "stream",
     "text": [
      "Maximum KNN score on the test data:  68.85%\n"
     ]
    },
    {
     "data": {
      "image/png": "[encoded data removed]",
      "text/plain": [
       "<Figure size 640x480 with 1 Axes>"
      ]
     },
     "metadata": {},
     "output_type": "display_data"
    }
   ],
   "source": [
    "# Plotting Model score vs Number of neigbors for better visulize\n",
    "\n",
    "plt.plot(neighbors,train_scores,label=\"Train score\")\n",
    "plt.plot(neighbors,test_scores,label=\"Test score\")\n",
    "plt.xticks(np.arange(1,21,1))\n",
    "plt.xlabel(\"Number of neighbors\")\n",
    "plt.ylabel(\"Model score\")\n",
    "plt.legend();\n",
    "\n",
    "print(f\"Maximum KNN score on the test data: {max(test_scores)*100: .2f}%\")\n"
   ]
  },
  {
   "cell_type": "markdown",
   "id": "077dd5cb-b21e-42f0-b3f2-586557f3278e",
   "metadata": {},
   "source": [
    "## Hyperparameter tuning with RandomizedSearchCV\n",
    "\n",
    "we're going to tune:\n",
    "\n",
    "* LogisticRegression()\n",
    "* RandomForestClassifier()\n",
    "\n",
    "using RandomizedSearchCV"
   ]
  },
  {
   "cell_type": "code",
   "execution_count": 39,
   "id": "153b963d-1e4a-4701-98ec-08ba00f6ff58",
   "metadata": {},
   "outputs": [],
   "source": [
    "# Create a hyperparameter grid for logisticRegression\n",
    "log_reg_grid = {\"C\": np.logspace(-4,4,20),\n",
    "                \"solver\": [\"liblinear\"]}\n",
    "\n",
    "# Create a hyperparameter grid for RandomForestClassifier\n",
    "rf_grid = {\"n_estimators\": np.arange(10,1000,50),\n",
    "           \"max_depth\": [None, 3,5,10],\n",
    "           \"min_samples_split\": np.arange(2,20,2),\n",
    "           \"min_samples_leaf\": np.arange(1,20,2)}"
   ]
  },
  {
   "cell_type": "markdown",
   "id": "2f47b41f-50c3-4860-8a18-40b39e63cd4f",
   "metadata": {},
   "source": [
    "Now we have got hyperparameter grids setup for each of our models,let's tune them using RandomizedSearchCV.."
   ]
  },
  {
   "cell_type": "code",
   "execution_count": 40,
   "id": "bd6f9eed-6abc-473d-a935-11c3179dae4e",
   "metadata": {},
   "outputs": [
    {
     "name": "stdout",
     "output_type": "stream",
     "text": [
      "Fitting 5 folds for each of 20 candidates, totalling 100 fits\n"
     ]
    },
    {
     "data": {
      "text/html": [
       "<style>#sk-container-id-1 {color: black;}#sk-container-id-1 pre{padding: 0;}#sk-container-id-1 div.sk-toggleable {background-color: white;}#sk-container-id-1 label.sk-toggleable__label {cursor: pointer;display: block;width: 100%;margin-bottom: 0;padding: 0.3em;box-sizing: border-box;text-align: center;}#sk-container-id-1 label.sk-toggleable__label-arrow:before {content: \"▸\";float: left;margin-right: 0.25em;color: #696969;}#sk-container-id-1 label.sk-toggleable__label-arrow:hover:before {color: black;}#sk-container-id-1 div.sk-estimator:hover label.sk-toggleable__label-arrow:before {color: black;}#sk-container-id-1 div.sk-toggleable__content {max-height: 0;max-width: 0;overflow: hidden;text-align: left;background-color: #f0f8ff;}#sk-container-id-1 div.sk-toggleable__content pre {margin: 0.2em;color: black;border-radius: 0.25em;background-color: #f0f8ff;}#sk-container-id-1 input.sk-toggleable__control:checked~div.sk-toggleable__content {max-height: 200px;max-width: 100%;overflow: auto;}#sk-container-id-1 input.sk-toggleable__control:checked~label.sk-toggleable__label-arrow:before {content: \"▾\";}#sk-container-id-1 div.sk-estimator input.sk-toggleable__control:checked~label.sk-toggleable__label {background-color: #d4ebff;}#sk-container-id-1 div.sk-label input.sk-toggleable__control:checked~label.sk-toggleable__label {background-color: #d4ebff;}#sk-container-id-1 input.sk-hidden--visually {border: 0;clip: rect(1px 1px 1px 1px);clip: rect(1px, 1px, 1px, 1px);height: 1px;margin: -1px;overflow: hidden;padding: 0;position: absolute;width: 1px;}#sk-container-id-1 div.sk-estimator {font-family: monospace;background-color: #f0f8ff;border: 1px dotted black;border-radius: 0.25em;box-sizing: border-box;margin-bottom: 0.5em;}#sk-container-id-1 div.sk-estimator:hover {background-color: #d4ebff;}#sk-container-id-1 div.sk-parallel-item::after {content: \"\";width: 100%;border-bottom: 1px solid gray;flex-grow: 1;}#sk-container-id-1 div.sk-label:hover label.sk-toggleable__label {background-color: #d4ebff;}#sk-container-id-1 div.sk-serial::before {content: \"\";position: absolute;border-left: 1px solid gray;box-sizing: border-box;top: 0;bottom: 0;left: 50%;z-index: 0;}#sk-container-id-1 div.sk-serial {display: flex;flex-direction: column;align-items: center;background-color: white;padding-right: 0.2em;padding-left: 0.2em;position: relative;}#sk-container-id-1 div.sk-item {position: relative;z-index: 1;}#sk-container-id-1 div.sk-parallel {display: flex;align-items: stretch;justify-content: center;background-color: white;position: relative;}#sk-container-id-1 div.sk-item::before, #sk-container-id-1 div.sk-parallel-item::before {content: \"\";position: absolute;border-left: 1px solid gray;box-sizing: border-box;top: 0;bottom: 0;left: 50%;z-index: -1;}#sk-container-id-1 div.sk-parallel-item {display: flex;flex-direction: column;z-index: 1;position: relative;background-color: white;}#sk-container-id-1 div.sk-parallel-item:first-child::after {align-self: flex-end;width: 50%;}#sk-container-id-1 div.sk-parallel-item:last-child::after {align-self: flex-start;width: 50%;}#sk-container-id-1 div.sk-parallel-item:only-child::after {width: 0;}#sk-container-id-1 div.sk-dashed-wrapped {border: 1px dashed gray;margin: 0 0.4em 0.5em 0.4em;box-sizing: border-box;padding-bottom: 0.4em;background-color: white;}#sk-container-id-1 div.sk-label label {font-family: monospace;font-weight: bold;display: inline-block;line-height: 1.2em;}#sk-container-id-1 div.sk-label-container {text-align: center;}#sk-container-id-1 div.sk-container {/* jupyter's `normalize.less` sets `[hidden] { display: none; }` but bootstrap.min.css set `[hidden] { display: none !important; }` so we also need the `!important` here to be able to override the default hidden behavior on the sphinx rendered scikit-learn.org. See: https://github.com/scikit-learn/scikit-learn/issues/21755 */display: inline-block !important;position: relative;}#sk-container-id-1 div.sk-text-repr-fallback {display: none;}</style><div id=\"sk-container-id-1\" class=\"sk-top-container\"><div class=\"sk-text-repr-fallback\"><pre>RandomizedSearchCV(cv=5, estimator=LogisticRegression(), n_iter=20,\n",
       "                   param_distributions={&#x27;C&#x27;: array([1.00000000e-04, 2.63665090e-04, 6.95192796e-04, 1.83298071e-03,\n",
       "       4.83293024e-03, 1.27427499e-02, 3.35981829e-02, 8.85866790e-02,\n",
       "       2.33572147e-01, 6.15848211e-01, 1.62377674e+00, 4.28133240e+00,\n",
       "       1.12883789e+01, 2.97635144e+01, 7.84759970e+01, 2.06913808e+02,\n",
       "       5.45559478e+02, 1.43844989e+03, 3.79269019e+03, 1.00000000e+04]),\n",
       "                                        &#x27;solver&#x27;: [&#x27;liblinear&#x27;]},\n",
       "                   verbose=True)</pre><b>In a Jupyter environment, please rerun this cell to show the HTML representation or trust the notebook. <br />On GitHub, the HTML representation is unable to render, please try loading this page with nbviewer.org.</b></div><div class=\"sk-container\" hidden><div class=\"sk-item sk-dashed-wrapped\"><div class=\"sk-label-container\"><div class=\"sk-label sk-toggleable\"><input class=\"sk-toggleable__control sk-hidden--visually\" id=\"sk-estimator-id-1\" type=\"checkbox\" ><label for=\"sk-estimator-id-1\" class=\"sk-toggleable__label sk-toggleable__label-arrow\">RandomizedSearchCV</label><div class=\"sk-toggleable__content\"><pre>RandomizedSearchCV(cv=5, estimator=LogisticRegression(), n_iter=20,\n",
       "                   param_distributions={&#x27;C&#x27;: array([1.00000000e-04, 2.63665090e-04, 6.95192796e-04, 1.83298071e-03,\n",
       "       4.83293024e-03, 1.27427499e-02, 3.35981829e-02, 8.85866790e-02,\n",
       "       2.33572147e-01, 6.15848211e-01, 1.62377674e+00, 4.28133240e+00,\n",
       "       1.12883789e+01, 2.97635144e+01, 7.84759970e+01, 2.06913808e+02,\n",
       "       5.45559478e+02, 1.43844989e+03, 3.79269019e+03, 1.00000000e+04]),\n",
       "                                        &#x27;solver&#x27;: [&#x27;liblinear&#x27;]},\n",
       "                   verbose=True)</pre></div></div></div><div class=\"sk-parallel\"><div class=\"sk-parallel-item\"><div class=\"sk-item\"><div class=\"sk-label-container\"><div class=\"sk-label sk-toggleable\"><input class=\"sk-toggleable__control sk-hidden--visually\" id=\"sk-estimator-id-2\" type=\"checkbox\" ><label for=\"sk-estimator-id-2\" class=\"sk-toggleable__label sk-toggleable__label-arrow\">estimator: LogisticRegression</label><div class=\"sk-toggleable__content\"><pre>LogisticRegression()</pre></div></div></div><div class=\"sk-serial\"><div class=\"sk-item\"><div class=\"sk-estimator sk-toggleable\"><input class=\"sk-toggleable__control sk-hidden--visually\" id=\"sk-estimator-id-3\" type=\"checkbox\" ><label for=\"sk-estimator-id-3\" class=\"sk-toggleable__label sk-toggleable__label-arrow\">LogisticRegression</label><div class=\"sk-toggleable__content\"><pre>LogisticRegression()</pre></div></div></div></div></div></div></div></div></div></div>"
      ],
      "text/plain": [
       "RandomizedSearchCV(cv=5, estimator=LogisticRegression(), n_iter=20,\n",
       "                   param_distributions={'C': array([1.00000000e-04, 2.63665090e-04, 6.95192796e-04, 1.83298071e-03,\n",
       "       4.83293024e-03, 1.27427499e-02, 3.35981829e-02, 8.85866790e-02,\n",
       "       2.33572147e-01, 6.15848211e-01, 1.62377674e+00, 4.28133240e+00,\n",
       "       1.12883789e+01, 2.97635144e+01, 7.84759970e+01, 2.06913808e+02,\n",
       "       5.45559478e+02, 1.43844989e+03, 3.79269019e+03, 1.00000000e+04]),\n",
       "                                        'solver': ['liblinear']},\n",
       "                   verbose=True)"
      ]
     },
     "execution_count": 40,
     "metadata": {},
     "output_type": "execute_result"
    }
   ],
   "source": [
    "# Tune LogisticRegression\n",
    "\n",
    "np.random.seed(42)\n",
    "\n",
    "# setup random hyperparameter search for LogisticRegression\n",
    "rs_log_reg = RandomizedSearchCV(LogisticRegression(),\n",
    "                               param_distributions=log_reg_grid,\n",
    "                               cv=5,\n",
    "                               n_iter=20,\n",
    "                               verbose=True)\n",
    "\n",
    "# Fit random hyperparameter search model for LogisticRegression\n",
    "rs_log_reg.fit(x_train,y_train)"
   ]
  },
  {
   "cell_type": "code",
   "execution_count": 41,
   "id": "fdb6b632-e87a-447b-a85a-c204dc36f05d",
   "metadata": {},
   "outputs": [
    {
     "data": {
      "text/plain": [
       "{'solver': 'liblinear', 'C': 0.23357214690901212}"
      ]
     },
     "execution_count": 41,
     "metadata": {},
     "output_type": "execute_result"
    }
   ],
   "source": [
    "rs_log_reg.best_params_"
   ]
  },
  {
   "cell_type": "code",
   "execution_count": 42,
   "id": "cbc53be8-10de-4a42-8577-ef38bb6da5d0",
   "metadata": {},
   "outputs": [
    {
     "data": {
      "text/plain": [
       "0.8360655737704918"
      ]
     },
     "execution_count": 42,
     "metadata": {},
     "output_type": "execute_result"
    }
   ],
   "source": [
    "rs_log_reg.score(x_test,y_test)"
   ]
  },
  {
   "cell_type": "markdown",
   "id": "0fd840cb-befe-4940-b215-c2ac8bd9d9e2",
   "metadata": {},
   "source": [
    "Now we have tuned LogisticRegression(),let's do the same for RandomForestClassifier().."
   ]
  },
  {
   "cell_type": "code",
   "execution_count": 43,
   "id": "c5ae03c3-a6a9-4748-96ea-be40c5cc5b2e",
   "metadata": {},
   "outputs": [
    {
     "name": "stdout",
     "output_type": "stream",
     "text": [
      "Fitting 5 folds for each of 20 candidates, totalling 100 fits\n"
     ]
    },
    {
     "data": {
      "text/html": [
       "<style>#sk-container-id-2 {color: black;}#sk-container-id-2 pre{padding: 0;}#sk-container-id-2 div.sk-toggleable {background-color: white;}#sk-container-id-2 label.sk-toggleable__label {cursor: pointer;display: block;width: 100%;margin-bottom: 0;padding: 0.3em;box-sizing: border-box;text-align: center;}#sk-container-id-2 label.sk-toggleable__label-arrow:before {content: \"▸\";float: left;margin-right: 0.25em;color: #696969;}#sk-container-id-2 label.sk-toggleable__label-arrow:hover:before {color: black;}#sk-container-id-2 div.sk-estimator:hover label.sk-toggleable__label-arrow:before {color: black;}#sk-container-id-2 div.sk-toggleable__content {max-height: 0;max-width: 0;overflow: hidden;text-align: left;background-color: #f0f8ff;}#sk-container-id-2 div.sk-toggleable__content pre {margin: 0.2em;color: black;border-radius: 0.25em;background-color: #f0f8ff;}#sk-container-id-2 input.sk-toggleable__control:checked~div.sk-toggleable__content {max-height: 200px;max-width: 100%;overflow: auto;}#sk-container-id-2 input.sk-toggleable__control:checked~label.sk-toggleable__label-arrow:before {content: \"▾\";}#sk-container-id-2 div.sk-estimator input.sk-toggleable__control:checked~label.sk-toggleable__label {background-color: #d4ebff;}#sk-container-id-2 div.sk-label input.sk-toggleable__control:checked~label.sk-toggleable__label {background-color: #d4ebff;}#sk-container-id-2 input.sk-hidden--visually {border: 0;clip: rect(1px 1px 1px 1px);clip: rect(1px, 1px, 1px, 1px);height: 1px;margin: -1px;overflow: hidden;padding: 0;position: absolute;width: 1px;}#sk-container-id-2 div.sk-estimator {font-family: monospace;background-color: #f0f8ff;border: 1px dotted black;border-radius: 0.25em;box-sizing: border-box;margin-bottom: 0.5em;}#sk-container-id-2 div.sk-estimator:hover {background-color: #d4ebff;}#sk-container-id-2 div.sk-parallel-item::after {content: \"\";width: 100%;border-bottom: 1px solid gray;flex-grow: 1;}#sk-container-id-2 div.sk-label:hover label.sk-toggleable__label {background-color: #d4ebff;}#sk-container-id-2 div.sk-serial::before {content: \"\";position: absolute;border-left: 1px solid gray;box-sizing: border-box;top: 0;bottom: 0;left: 50%;z-index: 0;}#sk-container-id-2 div.sk-serial {display: flex;flex-direction: column;align-items: center;background-color: white;padding-right: 0.2em;padding-left: 0.2em;position: relative;}#sk-container-id-2 div.sk-item {position: relative;z-index: 1;}#sk-container-id-2 div.sk-parallel {display: flex;align-items: stretch;justify-content: center;background-color: white;position: relative;}#sk-container-id-2 div.sk-item::before, #sk-container-id-2 div.sk-parallel-item::before {content: \"\";position: absolute;border-left: 1px solid gray;box-sizing: border-box;top: 0;bottom: 0;left: 50%;z-index: -1;}#sk-container-id-2 div.sk-parallel-item {display: flex;flex-direction: column;z-index: 1;position: relative;background-color: white;}#sk-container-id-2 div.sk-parallel-item:first-child::after {align-self: flex-end;width: 50%;}#sk-container-id-2 div.sk-parallel-item:last-child::after {align-self: flex-start;width: 50%;}#sk-container-id-2 div.sk-parallel-item:only-child::after {width: 0;}#sk-container-id-2 div.sk-dashed-wrapped {border: 1px dashed gray;margin: 0 0.4em 0.5em 0.4em;box-sizing: border-box;padding-bottom: 0.4em;background-color: white;}#sk-container-id-2 div.sk-label label {font-family: monospace;font-weight: bold;display: inline-block;line-height: 1.2em;}#sk-container-id-2 div.sk-label-container {text-align: center;}#sk-container-id-2 div.sk-container {/* jupyter's `normalize.less` sets `[hidden] { display: none; }` but bootstrap.min.css set `[hidden] { display: none !important; }` so we also need the `!important` here to be able to override the default hidden behavior on the sphinx rendered scikit-learn.org. See: https://github.com/scikit-learn/scikit-learn/issues/21755 */display: inline-block !important;position: relative;}#sk-container-id-2 div.sk-text-repr-fallback {display: none;}</style><div id=\"sk-container-id-2\" class=\"sk-top-container\"><div class=\"sk-text-repr-fallback\"><pre>RandomizedSearchCV(cv=5, estimator=RandomForestClassifier(), n_iter=20,\n",
       "                   param_distributions={&#x27;max_depth&#x27;: [None, 3, 5, 10],\n",
       "                                        &#x27;min_samples_leaf&#x27;: array([ 1,  3,  5,  7,  9, 11, 13, 15, 17, 19]),\n",
       "                                        &#x27;min_samples_split&#x27;: array([ 2,  4,  6,  8, 10, 12, 14, 16, 18]),\n",
       "                                        &#x27;n_estimators&#x27;: array([ 10,  60, 110, 160, 210, 260, 310, 360, 410, 460, 510, 560, 610,\n",
       "       660, 710, 760, 810, 860, 910, 960])},\n",
       "                   verbose=True)</pre><b>In a Jupyter environment, please rerun this cell to show the HTML representation or trust the notebook. <br />On GitHub, the HTML representation is unable to render, please try loading this page with nbviewer.org.</b></div><div class=\"sk-container\" hidden><div class=\"sk-item sk-dashed-wrapped\"><div class=\"sk-label-container\"><div class=\"sk-label sk-toggleable\"><input class=\"sk-toggleable__control sk-hidden--visually\" id=\"sk-estimator-id-4\" type=\"checkbox\" ><label for=\"sk-estimator-id-4\" class=\"sk-toggleable__label sk-toggleable__label-arrow\">RandomizedSearchCV</label><div class=\"sk-toggleable__content\"><pre>RandomizedSearchCV(cv=5, estimator=RandomForestClassifier(), n_iter=20,\n",
       "                   param_distributions={&#x27;max_depth&#x27;: [None, 3, 5, 10],\n",
       "                                        &#x27;min_samples_leaf&#x27;: array([ 1,  3,  5,  7,  9, 11, 13, 15, 17, 19]),\n",
       "                                        &#x27;min_samples_split&#x27;: array([ 2,  4,  6,  8, 10, 12, 14, 16, 18]),\n",
       "                                        &#x27;n_estimators&#x27;: array([ 10,  60, 110, 160, 210, 260, 310, 360, 410, 460, 510, 560, 610,\n",
       "       660, 710, 760, 810, 860, 910, 960])},\n",
       "                   verbose=True)</pre></div></div></div><div class=\"sk-parallel\"><div class=\"sk-parallel-item\"><div class=\"sk-item\"><div class=\"sk-label-container\"><div class=\"sk-label sk-toggleable\"><input class=\"sk-toggleable__control sk-hidden--visually\" id=\"sk-estimator-id-5\" type=\"checkbox\" ><label for=\"sk-estimator-id-5\" class=\"sk-toggleable__label sk-toggleable__label-arrow\">estimator: RandomForestClassifier</label><div class=\"sk-toggleable__content\"><pre>RandomForestClassifier()</pre></div></div></div><div class=\"sk-serial\"><div class=\"sk-item\"><div class=\"sk-estimator sk-toggleable\"><input class=\"sk-toggleable__control sk-hidden--visually\" id=\"sk-estimator-id-6\" type=\"checkbox\" ><label for=\"sk-estimator-id-6\" class=\"sk-toggleable__label sk-toggleable__label-arrow\">RandomForestClassifier</label><div class=\"sk-toggleable__content\"><pre>RandomForestClassifier()</pre></div></div></div></div></div></div></div></div></div></div>"
      ],
      "text/plain": [
       "RandomizedSearchCV(cv=5, estimator=RandomForestClassifier(), n_iter=20,\n",
       "                   param_distributions={'max_depth': [None, 3, 5, 10],\n",
       "                                        'min_samples_leaf': array([ 1,  3,  5,  7,  9, 11, 13, 15, 17, 19]),\n",
       "                                        'min_samples_split': array([ 2,  4,  6,  8, 10, 12, 14, 16, 18]),\n",
       "                                        'n_estimators': array([ 10,  60, 110, 160, 210, 260, 310, 360, 410, 460, 510, 560, 610,\n",
       "       660, 710, 760, 810, 860, 910, 960])},\n",
       "                   verbose=True)"
      ]
     },
     "execution_count": 43,
     "metadata": {},
     "output_type": "execute_result"
    }
   ],
   "source": [
    "# setup random seed\n",
    "\n",
    "np.random.seed(42)\n",
    "\n",
    "# setup random hyperparameter search for RandomForestClassifier\n",
    "rs_rf = RandomizedSearchCV(RandomForestClassifier(),\n",
    "                          param_distributions=rf_grid,\n",
    "                          verbose=True,\n",
    "                          cv=5,\n",
    "                          n_iter=20)\n",
    "\n",
    "# Fit the random hyperparameter model for RandomForestClassifier\n",
    "rs_rf.fit(x_test,y_test)"
   ]
  },
  {
   "cell_type": "code",
   "execution_count": 44,
   "id": "8e09c18d-0f8f-47d4-9742-a1382885fc99",
   "metadata": {},
   "outputs": [
    {
     "data": {
      "text/plain": [
       "{'n_estimators': 610,\n",
       " 'min_samples_split': 18,\n",
       " 'min_samples_leaf': 1,\n",
       " 'max_depth': 5}"
      ]
     },
     "execution_count": 44,
     "metadata": {},
     "output_type": "execute_result"
    }
   ],
   "source": [
    "# Find the best hyperparameters\n",
    "rs_rf.best_params_\n"
   ]
  },
  {
   "cell_type": "code",
   "execution_count": 45,
   "id": "362e3a77-f188-49a6-bcbf-aa6643d2aa95",
   "metadata": {},
   "outputs": [
    {
     "data": {
      "text/plain": [
       "0.9508196721311475"
      ]
     },
     "execution_count": 45,
     "metadata": {},
     "output_type": "execute_result"
    }
   ],
   "source": [
    "# Evaluate the randomized search RandomRandomForestClassifier model\n",
    "rs_rf.score(x_test,y_test)"
   ]
  },
  {
   "cell_type": "markdown",
   "id": "d7a11485-13fc-4673-8489-cf819e468d13",
   "metadata": {},
   "source": [
    "## Hyperparameter Tuning With GridSearcGridSearchCV\n",
    "Since our LogisticRegresssion() model provides the best score so far, we will try to improve them again using GridSearchCV.."
   ]
  },
  {
   "cell_type": "code",
   "execution_count": 46,
   "id": "851e1dda-69cc-408e-86cb-e3e55de0b6c3",
   "metadata": {},
   "outputs": [
    {
     "name": "stdout",
     "output_type": "stream",
     "text": [
      "Fitting 5 folds for each of 30 candidates, totalling 150 fits\n"
     ]
    },
    {
     "data": {
      "text/html": [
       "<style>#sk-container-id-3 {color: black;}#sk-container-id-3 pre{padding: 0;}#sk-container-id-3 div.sk-toggleable {background-color: white;}#sk-container-id-3 label.sk-toggleable__label {cursor: pointer;display: block;width: 100%;margin-bottom: 0;padding: 0.3em;box-sizing: border-box;text-align: center;}#sk-container-id-3 label.sk-toggleable__label-arrow:before {content: \"▸\";float: left;margin-right: 0.25em;color: #696969;}#sk-container-id-3 label.sk-toggleable__label-arrow:hover:before {color: black;}#sk-container-id-3 div.sk-estimator:hover label.sk-toggleable__label-arrow:before {color: black;}#sk-container-id-3 div.sk-toggleable__content {max-height: 0;max-width: 0;overflow: hidden;text-align: left;background-color: #f0f8ff;}#sk-container-id-3 div.sk-toggleable__content pre {margin: 0.2em;color: black;border-radius: 0.25em;background-color: #f0f8ff;}#sk-container-id-3 input.sk-toggleable__control:checked~div.sk-toggleable__content {max-height: 200px;max-width: 100%;overflow: auto;}#sk-container-id-3 input.sk-toggleable__control:checked~label.sk-toggleable__label-arrow:before {content: \"▾\";}#sk-container-id-3 div.sk-estimator input.sk-toggleable__control:checked~label.sk-toggleable__label {background-color: #d4ebff;}#sk-container-id-3 div.sk-label input.sk-toggleable__control:checked~label.sk-toggleable__label {background-color: #d4ebff;}#sk-container-id-3 input.sk-hidden--visually {border: 0;clip: rect(1px 1px 1px 1px);clip: rect(1px, 1px, 1px, 1px);height: 1px;margin: -1px;overflow: hidden;padding: 0;position: absolute;width: 1px;}#sk-container-id-3 div.sk-estimator {font-family: monospace;background-color: #f0f8ff;border: 1px dotted black;border-radius: 0.25em;box-sizing: border-box;margin-bottom: 0.5em;}#sk-container-id-3 div.sk-estimator:hover {background-color: #d4ebff;}#sk-container-id-3 div.sk-parallel-item::after {content: \"\";width: 100%;border-bottom: 1px solid gray;flex-grow: 1;}#sk-container-id-3 div.sk-label:hover label.sk-toggleable__label {background-color: #d4ebff;}#sk-container-id-3 div.sk-serial::before {content: \"\";position: absolute;border-left: 1px solid gray;box-sizing: border-box;top: 0;bottom: 0;left: 50%;z-index: 0;}#sk-container-id-3 div.sk-serial {display: flex;flex-direction: column;align-items: center;background-color: white;padding-right: 0.2em;padding-left: 0.2em;position: relative;}#sk-container-id-3 div.sk-item {position: relative;z-index: 1;}#sk-container-id-3 div.sk-parallel {display: flex;align-items: stretch;justify-content: center;background-color: white;position: relative;}#sk-container-id-3 div.sk-item::before, #sk-container-id-3 div.sk-parallel-item::before {content: \"\";position: absolute;border-left: 1px solid gray;box-sizing: border-box;top: 0;bottom: 0;left: 50%;z-index: -1;}#sk-container-id-3 div.sk-parallel-item {display: flex;flex-direction: column;z-index: 1;position: relative;background-color: white;}#sk-container-id-3 div.sk-parallel-item:first-child::after {align-self: flex-end;width: 50%;}#sk-container-id-3 div.sk-parallel-item:last-child::after {align-self: flex-start;width: 50%;}#sk-container-id-3 div.sk-parallel-item:only-child::after {width: 0;}#sk-container-id-3 div.sk-dashed-wrapped {border: 1px dashed gray;margin: 0 0.4em 0.5em 0.4em;box-sizing: border-box;padding-bottom: 0.4em;background-color: white;}#sk-container-id-3 div.sk-label label {font-family: monospace;font-weight: bold;display: inline-block;line-height: 1.2em;}#sk-container-id-3 div.sk-label-container {text-align: center;}#sk-container-id-3 div.sk-container {/* jupyter's `normalize.less` sets `[hidden] { display: none; }` but bootstrap.min.css set `[hidden] { display: none !important; }` so we also need the `!important` here to be able to override the default hidden behavior on the sphinx rendered scikit-learn.org. See: https://github.com/scikit-learn/scikit-learn/issues/21755 */display: inline-block !important;position: relative;}#sk-container-id-3 div.sk-text-repr-fallback {display: none;}</style><div id=\"sk-container-id-3\" class=\"sk-top-container\"><div class=\"sk-text-repr-fallback\"><pre>GridSearchCV(cv=5, estimator=LogisticRegression(),\n",
       "             param_grid={&#x27;C&#x27;: array([1.00000000e-04, 1.88739182e-04, 3.56224789e-04, 6.72335754e-04,\n",
       "       1.26896100e-03, 2.39502662e-03, 4.52035366e-03, 8.53167852e-03,\n",
       "       1.61026203e-02, 3.03919538e-02, 5.73615251e-02, 1.08263673e-01,\n",
       "       2.04335972e-01, 3.85662042e-01, 7.27895384e-01, 1.37382380e+00,\n",
       "       2.59294380e+00, 4.89390092e+00, 9.23670857e+00, 1.74332882e+01,\n",
       "       3.29034456e+01, 6.21016942e+01, 1.17210230e+02, 2.21221629e+02,\n",
       "       4.17531894e+02, 7.88046282e+02, 1.48735211e+03, 2.80721620e+03,\n",
       "       5.29831691e+03, 1.00000000e+04]),\n",
       "                         &#x27;solver&#x27;: [&#x27;liblinear&#x27;]},\n",
       "             verbose=True)</pre><b>In a Jupyter environment, please rerun this cell to show the HTML representation or trust the notebook. <br />On GitHub, the HTML representation is unable to render, please try loading this page with nbviewer.org.</b></div><div class=\"sk-container\" hidden><div class=\"sk-item sk-dashed-wrapped\"><div class=\"sk-label-container\"><div class=\"sk-label sk-toggleable\"><input class=\"sk-toggleable__control sk-hidden--visually\" id=\"sk-estimator-id-7\" type=\"checkbox\" ><label for=\"sk-estimator-id-7\" class=\"sk-toggleable__label sk-toggleable__label-arrow\">GridSearchCV</label><div class=\"sk-toggleable__content\"><pre>GridSearchCV(cv=5, estimator=LogisticRegression(),\n",
       "             param_grid={&#x27;C&#x27;: array([1.00000000e-04, 1.88739182e-04, 3.56224789e-04, 6.72335754e-04,\n",
       "       1.26896100e-03, 2.39502662e-03, 4.52035366e-03, 8.53167852e-03,\n",
       "       1.61026203e-02, 3.03919538e-02, 5.73615251e-02, 1.08263673e-01,\n",
       "       2.04335972e-01, 3.85662042e-01, 7.27895384e-01, 1.37382380e+00,\n",
       "       2.59294380e+00, 4.89390092e+00, 9.23670857e+00, 1.74332882e+01,\n",
       "       3.29034456e+01, 6.21016942e+01, 1.17210230e+02, 2.21221629e+02,\n",
       "       4.17531894e+02, 7.88046282e+02, 1.48735211e+03, 2.80721620e+03,\n",
       "       5.29831691e+03, 1.00000000e+04]),\n",
       "                         &#x27;solver&#x27;: [&#x27;liblinear&#x27;]},\n",
       "             verbose=True)</pre></div></div></div><div class=\"sk-parallel\"><div class=\"sk-parallel-item\"><div class=\"sk-item\"><div class=\"sk-label-container\"><div class=\"sk-label sk-toggleable\"><input class=\"sk-toggleable__control sk-hidden--visually\" id=\"sk-estimator-id-8\" type=\"checkbox\" ><label for=\"sk-estimator-id-8\" class=\"sk-toggleable__label sk-toggleable__label-arrow\">estimator: LogisticRegression</label><div class=\"sk-toggleable__content\"><pre>LogisticRegression()</pre></div></div></div><div class=\"sk-serial\"><div class=\"sk-item\"><div class=\"sk-estimator sk-toggleable\"><input class=\"sk-toggleable__control sk-hidden--visually\" id=\"sk-estimator-id-9\" type=\"checkbox\" ><label for=\"sk-estimator-id-9\" class=\"sk-toggleable__label sk-toggleable__label-arrow\">LogisticRegression</label><div class=\"sk-toggleable__content\"><pre>LogisticRegression()</pre></div></div></div></div></div></div></div></div></div></div>"
      ],
      "text/plain": [
       "GridSearchCV(cv=5, estimator=LogisticRegression(),\n",
       "             param_grid={'C': array([1.00000000e-04, 1.88739182e-04, 3.56224789e-04, 6.72335754e-04,\n",
       "       1.26896100e-03, 2.39502662e-03, 4.52035366e-03, 8.53167852e-03,\n",
       "       1.61026203e-02, 3.03919538e-02, 5.73615251e-02, 1.08263673e-01,\n",
       "       2.04335972e-01, 3.85662042e-01, 7.27895384e-01, 1.37382380e+00,\n",
       "       2.59294380e+00, 4.89390092e+00, 9.23670857e+00, 1.74332882e+01,\n",
       "       3.29034456e+01, 6.21016942e+01, 1.17210230e+02, 2.21221629e+02,\n",
       "       4.17531894e+02, 7.88046282e+02, 1.48735211e+03, 2.80721620e+03,\n",
       "       5.29831691e+03, 1.00000000e+04]),\n",
       "                         'solver': ['liblinear']},\n",
       "             verbose=True)"
      ]
     },
     "execution_count": 46,
     "metadata": {},
     "output_type": "execute_result"
    }
   ],
   "source": [
    "# Different hyperparameters for our LogisticRegression model\n",
    "log_reg_grid = {\"C\":np.logspace(-4,4,30),\n",
    "               \"solver\":[\"liblinear\"]}\n",
    "\n",
    "# Setup grid hyperparameter for LogLogisticRegression()\n",
    "gs_log_reg = GridSearchCV(LogisticRegression(),\n",
    "                         cv=5,\n",
    "                         verbose=True,\n",
    "                         param_grid=log_reg_grid)\n",
    "\n",
    "# Fit grid hyperparameter search model\n",
    "gs_log_reg.fit(x_test,y_test)"
   ]
  },
  {
   "cell_type": "code",
   "execution_count": 47,
   "id": "2b56ccfc-398e-489f-baf5-69a72624ab37",
   "metadata": {},
   "outputs": [
    {
     "data": {
      "text/plain": [
       "{'C': 17.433288221999874, 'solver': 'liblinear'}"
      ]
     },
     "execution_count": 47,
     "metadata": {},
     "output_type": "execute_result"
    }
   ],
   "source": [
    "# Check the best hyperparameters\n",
    "gs_log_reg.best_params_"
   ]
  },
  {
   "cell_type": "code",
   "execution_count": 48,
   "id": "804a3f09-8786-4059-b86f-429acf6ef5e1",
   "metadata": {},
   "outputs": [
    {
     "data": {
      "text/plain": [
       "0.9508196721311475"
      ]
     },
     "execution_count": 48,
     "metadata": {},
     "output_type": "execute_result"
    }
   ],
   "source": [
    "# Evaluate the grid search using LogisticRegression model\n",
    "gs_log_reg.score(x_test,y_test)"
   ]
  },
  {
   "cell_type": "markdown",
   "id": "a05c32b2-c2ea-4419-af0b-3d9ee0bfdead",
   "metadata": {},
   "source": [
    "## Evaluating our tuned machine learing classifier,beyond accuracy\n",
    "\n",
    "- ROC curve and AUC score\n",
    "- Confusion matrix\n",
    "- Classification report\n",
    "- Precision\n",
    "- Recall\n",
    "- F1-score\n",
    "\n",
    "It would be great if cross validation was used where possible.\n",
    "\n",
    "To make comparisons and evaluate our trained model,first we need to make predictions."
   ]
  },
  {
   "cell_type": "code",
   "execution_count": 49,
   "id": "11e92913-2c40-41d7-a283-f0c2bd642b2e",
   "metadata": {},
   "outputs": [
    {
     "data": {
      "text/plain": [
       "array([1, 0, 1, 1, 1, 1, 1, 1, 1, 1, 1, 0, 0, 1, 0, 0, 0, 0, 0, 1, 0, 1,\n",
       "       0, 1, 0, 1, 1, 1, 1, 0, 0, 1, 0, 0, 1, 1, 1, 0, 1, 0, 1, 1, 0, 0,\n",
       "       1, 1, 0, 0, 0, 0, 1, 1, 0, 1, 0, 0, 0, 1, 0, 1, 0])"
      ]
     },
     "execution_count": 49,
     "metadata": {},
     "output_type": "execute_result"
    }
   ],
   "source": [
    "# Make predictions with tuned model\n",
    "y_preds = gs_log_reg.predict(x_test)\n",
    "y_preds"
   ]
  },
  {
   "cell_type": "code",
   "execution_count": 50,
   "id": "794a91c8-751b-4170-b707-ea227ac8259c",
   "metadata": {},
   "outputs": [
    {
     "data": {
      "text/plain": [
       "0      1\n",
       "276    0\n",
       "77     1\n",
       "31     1\n",
       "115    1\n",
       "      ..\n",
       "282    0\n",
       "5      1\n",
       "196    0\n",
       "154    1\n",
       "244    0\n",
       "Name: target, Length: 61, dtype: int64"
      ]
     },
     "execution_count": 50,
     "metadata": {},
     "output_type": "execute_result"
    }
   ],
   "source": [
    "y_test"
   ]
  },
  {
   "cell_type": "code",
   "execution_count": 51,
   "id": "2d24ddca-0b81-4d83-bcc3-e7de15ced4bd",
   "metadata": {},
   "outputs": [
    {
     "data": {
      "image/png": "[encoded data removed]",
      "text/plain": [
       "<Figure size 640x480 with 1 Axes>"
      ]
     },
     "metadata": {},
     "output_type": "display_data"
    }
   ],
   "source": [
    "# plot ROC curve and calculate AUC metric\n",
    "RocCurveDisplay.from_estimator(gs_log_reg,x_test,y_test);"
   ]
  },
  {
   "cell_type": "code",
   "execution_count": 52,
   "id": "9bdf4e96-c11f-4165-b757-22f5e51092c1",
   "metadata": {},
   "outputs": [
    {
     "name": "stdout",
     "output_type": "stream",
     "text": [
      "[[28  2]\n",
      " [ 1 30]]\n"
     ]
    }
   ],
   "source": [
    "# confusion matrix\n",
    "print(confusion_matrix(y_test,y_preds))"
   ]
  },
  {
   "cell_type": "code",
   "execution_count": 53,
   "id": "fbe9ab14-c607-4d8c-98ee-e5b093b27977",
   "metadata": {},
   "outputs": [
    {
     "data": {
      "image/png": "[encoded data removed]",
      "text/plain": [
       "<Figure size 300x300 with 1 Axes>"
      ]
     },
     "metadata": {},
     "output_type": "display_data"
    }
   ],
   "source": [
    "sns.set(font_scale=1.5)\n",
    "\n",
    "def plot_conf_mat(y_test,y_preds):\n",
    "    \"\"\"\n",
    "    Plots a confusion matrix using seaborn's heatmap()\n",
    "    \"\"\"\n",
    "    fig,ax = plt.subplots(figsize=(3,3))\n",
    "    ax = sns.heatmap(confusion_matrix(y_test,y_preds),\n",
    "                    annot=True,\n",
    "                    cbar=False)\n",
    "    plt.xlabel(\"Predicted label\")\n",
    "    plt.ylabel(\"True label\")\n",
    "\n",
    "plot_conf_mat(y_test,y_preds)"
   ]
  },
  {
   "cell_type": "markdown",
   "id": "10c81efd-63c6-49f2-8409-77ef857d4117",
   "metadata": {},
   "source": [
    "Now we have got ROC curve, an metric and a confusion matrix,let's get a classification report as well as cross-validated precision,recall and f1-score."
   ]
  },
  {
   "cell_type": "code",
   "execution_count": 54,
   "id": "dae715bb-b467-44cb-a662-8decc874cb4a",
   "metadata": {},
   "outputs": [
    {
     "name": "stdout",
     "output_type": "stream",
     "text": [
      "              precision    recall  f1-score   support\n",
      "\n",
      "           0       0.97      0.93      0.95        30\n",
      "           1       0.94      0.97      0.95        31\n",
      "\n",
      "    accuracy                           0.95        61\n",
      "   macro avg       0.95      0.95      0.95        61\n",
      "weighted avg       0.95      0.95      0.95        61\n",
      "\n"
     ]
    }
   ],
   "source": [
    "print(classification_report(y_test,y_preds))"
   ]
  },
  {
   "cell_type": "markdown",
   "id": "d7869a9a-3a4c-4d7b-b309-9a684195172c",
   "metadata": {},
   "source": [
    "## Calculate evaluation metrics using cross-validation\n",
    "\n",
    "We're going to calculate accuracy,precision,recall and f1-score of our model using cross validation and to do so we'll be using  `Cross_val_score()`."
   ]
  },
  {
   "cell_type": "code",
   "execution_count": 55,
   "id": "12430f3e-a452-416d-971e-f63d306407f4",
   "metadata": {},
   "outputs": [
    {
     "data": {
      "text/plain": [
       "{'C': 17.433288221999874, 'solver': 'liblinear'}"
      ]
     },
     "execution_count": 55,
     "metadata": {},
     "output_type": "execute_result"
    }
   ],
   "source": [
    "# check the best hyperparameter\n",
    "gs_log_reg.best_params_"
   ]
  },
  {
   "cell_type": "code",
   "execution_count": 56,
   "id": "491d87c0-76c4-4ac7-8886-b7ad616232b2",
   "metadata": {},
   "outputs": [],
   "source": [
    "# Create a new classifier with best parameters\n",
    "clf = LogisticRegression(C=1.3738237958832638,\n",
    "                        solver=\"liblinear\")"
   ]
  },
  {
   "cell_type": "code",
   "execution_count": 57,
   "id": "1f59d7ca-138f-434d-9cfa-093c8811fae8",
   "metadata": {},
   "outputs": [
    {
     "data": {
      "text/plain": [
       "0.8215300546448088"
      ]
     },
     "execution_count": 57,
     "metadata": {},
     "output_type": "execute_result"
    }
   ],
   "source": [
    "# Cross validated accuracy\n",
    "cv_acc = cross_val_score(clf,\n",
    "                        x,\n",
    "                        y,\n",
    "                        cv=5,\n",
    "                        scoring=\"accuracy\")\n",
    "cv_acc = np.mean(cv_acc)\n",
    "cv_acc"
   ]
  },
  {
   "cell_type": "code",
   "execution_count": 58,
   "id": "4172895f-a114-4d8a-be96-c9b09d133f51",
   "metadata": {},
   "outputs": [
    {
     "data": {
      "text/plain": [
       "0.817900063251107"
      ]
     },
     "execution_count": 58,
     "metadata": {},
     "output_type": "execute_result"
    }
   ],
   "source": [
    "# Cross validated precision\n",
    "cv_precision = cross_val_score(clf,\n",
    "                        x,\n",
    "                        y,\n",
    "                        cv=5,\n",
    "                        scoring=\"precision\")\n",
    "cv_precision = np.mean(cv_precision)\n",
    "cv_precision"
   ]
  },
  {
   "cell_type": "code",
   "execution_count": 59,
   "id": "4e79315a-03b5-4334-b36e-42bffc72f4e7",
   "metadata": {},
   "outputs": [
    {
     "data": {
      "text/plain": [
       "0.8727272727272727"
      ]
     },
     "execution_count": 59,
     "metadata": {},
     "output_type": "execute_result"
    }
   ],
   "source": [
    "# Cross validated recall\n",
    "cv_recall = cross_val_score(clf,\n",
    "                        x,\n",
    "                        y,\n",
    "                        cv=5,\n",
    "                        scoring=\"recall\")\n",
    "cv_recall = np.mean(cv_recall)\n",
    "cv_recall"
   ]
  },
  {
   "cell_type": "code",
   "execution_count": 60,
   "id": "e60ea345-a3a8-4f59-bf6f-c5cade6f5b77",
   "metadata": {},
   "outputs": [
    {
     "data": {
      "text/plain": [
       "0.8431741323998502"
      ]
     },
     "execution_count": 60,
     "metadata": {},
     "output_type": "execute_result"
    }
   ],
   "source": [
    "# Cross validated f1-score\n",
    "cv_f1 = cross_val_score(clf,\n",
    "                        x,\n",
    "                        y,\n",
    "                        cv=5,\n",
    "                        scoring=\"f1\")\n",
    "cv_f1 = np.mean(cv_f1)\n",
    "cv_f1"
   ]
  },
  {
   "cell_type": "code",
   "execution_count": 61,
   "id": "92462db3-fcff-42d6-9d91-2e86cab44a09",
   "metadata": {},
   "outputs": [
    {
     "data": {
      "image/png": "[encoded data removed]",
      "text/plain": [
       "<Figure size 640x480 with 1 Axes>"
      ]
     },
     "metadata": {},
     "output_type": "display_data"
    }
   ],
   "source": [
    "# Visulaize cross-validated metrics\n",
    "cv_metrics = pd.DataFrame({\"Accuracy\":cv_acc,\n",
    "                          \"Precision\":cv_precision,\n",
    "                          \"F1\":cv_f1,\n",
    "                          \"Recall\":cv_recall},\n",
    "                         index=[0])\n",
    "\n",
    "cv_metrics.T.plot.bar(title=\"Cross-validated Classification metrics\",\n",
    "                     legend=False);"
   ]
  },
  {
   "cell_type": "markdown",
   "id": "75034c4a-aa8b-470c-b3cb-85283490d580",
   "metadata": {},
   "source": [
    "## Feature Importance\n",
    "\n",
    "-  Feature is another as asking ,\"Which features contributed most to the outcomes of the model and how did they contribute?\"\n",
    "-  Finding feature importance is different for each machine learning model.One way to find feature importance is to search for \"(MODEL NAME) feature importance\".\n",
    "- Let's find the feature importance of our LogisticRegression model..."
   ]
  },
  {
   "cell_type": "code",
   "execution_count": 62,
   "id": "92a22284-a040-4b68-9de4-23baeab00da6",
   "metadata": {},
   "outputs": [
    {
     "data": {
      "text/html": [
       "<style>#sk-container-id-4 {color: black;}#sk-container-id-4 pre{padding: 0;}#sk-container-id-4 div.sk-toggleable {background-color: white;}#sk-container-id-4 label.sk-toggleable__label {cursor: pointer;display: block;width: 100%;margin-bottom: 0;padding: 0.3em;box-sizing: border-box;text-align: center;}#sk-container-id-4 label.sk-toggleable__label-arrow:before {content: \"▸\";float: left;margin-right: 0.25em;color: #696969;}#sk-container-id-4 label.sk-toggleable__label-arrow:hover:before {color: black;}#sk-container-id-4 div.sk-estimator:hover label.sk-toggleable__label-arrow:before {color: black;}#sk-container-id-4 div.sk-toggleable__content {max-height: 0;max-width: 0;overflow: hidden;text-align: left;background-color: #f0f8ff;}#sk-container-id-4 div.sk-toggleable__content pre {margin: 0.2em;color: black;border-radius: 0.25em;background-color: #f0f8ff;}#sk-container-id-4 input.sk-toggleable__control:checked~div.sk-toggleable__content {max-height: 200px;max-width: 100%;overflow: auto;}#sk-container-id-4 input.sk-toggleable__control:checked~label.sk-toggleable__label-arrow:before {content: \"▾\";}#sk-container-id-4 div.sk-estimator input.sk-toggleable__control:checked~label.sk-toggleable__label {background-color: #d4ebff;}#sk-container-id-4 div.sk-label input.sk-toggleable__control:checked~label.sk-toggleable__label {background-color: #d4ebff;}#sk-container-id-4 input.sk-hidden--visually {border: 0;clip: rect(1px 1px 1px 1px);clip: rect(1px, 1px, 1px, 1px);height: 1px;margin: -1px;overflow: hidden;padding: 0;position: absolute;width: 1px;}#sk-container-id-4 div.sk-estimator {font-family: monospace;background-color: #f0f8ff;border: 1px dotted black;border-radius: 0.25em;box-sizing: border-box;margin-bottom: 0.5em;}#sk-container-id-4 div.sk-estimator:hover {background-color: #d4ebff;}#sk-container-id-4 div.sk-parallel-item::after {content: \"\";width: 100%;border-bottom: 1px solid gray;flex-grow: 1;}#sk-container-id-4 div.sk-label:hover label.sk-toggleable__label {background-color: #d4ebff;}#sk-container-id-4 div.sk-serial::before {content: \"\";position: absolute;border-left: 1px solid gray;box-sizing: border-box;top: 0;bottom: 0;left: 50%;z-index: 0;}#sk-container-id-4 div.sk-serial {display: flex;flex-direction: column;align-items: center;background-color: white;padding-right: 0.2em;padding-left: 0.2em;position: relative;}#sk-container-id-4 div.sk-item {position: relative;z-index: 1;}#sk-container-id-4 div.sk-parallel {display: flex;align-items: stretch;justify-content: center;background-color: white;position: relative;}#sk-container-id-4 div.sk-item::before, #sk-container-id-4 div.sk-parallel-item::before {content: \"\";position: absolute;border-left: 1px solid gray;box-sizing: border-box;top: 0;bottom: 0;left: 50%;z-index: -1;}#sk-container-id-4 div.sk-parallel-item {display: flex;flex-direction: column;z-index: 1;position: relative;background-color: white;}#sk-container-id-4 div.sk-parallel-item:first-child::after {align-self: flex-end;width: 50%;}#sk-container-id-4 div.sk-parallel-item:last-child::after {align-self: flex-start;width: 50%;}#sk-container-id-4 div.sk-parallel-item:only-child::after {width: 0;}#sk-container-id-4 div.sk-dashed-wrapped {border: 1px dashed gray;margin: 0 0.4em 0.5em 0.4em;box-sizing: border-box;padding-bottom: 0.4em;background-color: white;}#sk-container-id-4 div.sk-label label {font-family: monospace;font-weight: bold;display: inline-block;line-height: 1.2em;}#sk-container-id-4 div.sk-label-container {text-align: center;}#sk-container-id-4 div.sk-container {/* jupyter's `normalize.less` sets `[hidden] { display: none; }` but bootstrap.min.css set `[hidden] { display: none !important; }` so we also need the `!important` here to be able to override the default hidden behavior on the sphinx rendered scikit-learn.org. See: https://github.com/scikit-learn/scikit-learn/issues/21755 */display: inline-block !important;position: relative;}#sk-container-id-4 div.sk-text-repr-fallback {display: none;}</style><div id=\"sk-container-id-4\" class=\"sk-top-container\"><div class=\"sk-text-repr-fallback\"><pre>LogisticRegression(C=2.592943797404667, solver=&#x27;liblinear&#x27;)</pre><b>In a Jupyter environment, please rerun this cell to show the HTML representation or trust the notebook. <br />On GitHub, the HTML representation is unable to render, please try loading this page with nbviewer.org.</b></div><div class=\"sk-container\" hidden><div class=\"sk-item\"><div class=\"sk-estimator sk-toggleable\"><input class=\"sk-toggleable__control sk-hidden--visually\" id=\"sk-estimator-id-10\" type=\"checkbox\" checked><label for=\"sk-estimator-id-10\" class=\"sk-toggleable__label sk-toggleable__label-arrow\">LogisticRegression</label><div class=\"sk-toggleable__content\"><pre>LogisticRegression(C=2.592943797404667, solver=&#x27;liblinear&#x27;)</pre></div></div></div></div></div>"
      ],
      "text/plain": [
       "LogisticRegression(C=2.592943797404667, solver='liblinear')"
      ]
     },
     "execution_count": 62,
     "metadata": {},
     "output_type": "execute_result"
    }
   ],
   "source": [
    "# Fit an instance of LogisticRegression\n",
    "clf = LogisticRegression(C=2.592943797404667,\n",
    "                        solver=\"liblinear\")\n",
    "clf.fit(x_train,y_train)"
   ]
  },
  {
   "cell_type": "code",
   "execution_count": 63,
   "id": "d42b42b9-55cf-4fb6-99fc-0a0d705fb240",
   "metadata": {},
   "outputs": [
    {
     "data": {
      "text/plain": [
       "array([[ 1.08353070e-03, -1.48030028e+00,  7.31297045e-01,\n",
       "        -1.77631085e-02, -1.72921807e-03,  6.79452755e-01,\n",
       "         8.74795717e-01,  3.10927435e-02, -9.47532646e-01,\n",
       "        -4.51856149e-01,  3.73595607e-01, -6.58927230e-01,\n",
       "        -9.47303595e-01]])"
      ]
     },
     "execution_count": 63,
     "metadata": {},
     "output_type": "execute_result"
    }
   ],
   "source": [
    "clf.coef_"
   ]
  },
  {
   "cell_type": "code",
   "execution_count": 64,
   "id": "c4aaedb3-73f6-4f89-b8b1-09ca7c4d60f9",
   "metadata": {},
   "outputs": [
    {
     "data": {
      "text/html": [
       "<div>\n",
       "<style scoped>\n",
       "    .dataframe tbody tr th:only-of-type {\n",
       "        vertical-align: middle;\n",
       "    }\n",
       "\n",
       "    .dataframe tbody tr th {\n",
       "        vertical-align: top;\n",
       "    }\n",
       "\n",
       "    .dataframe thead th {\n",
       "        text-align: right;\n",
       "    }\n",
       "</style>\n",
       "<table border=\"1\" class=\"dataframe\">\n",
       "  <thead>\n",
       "    <tr style=\"text-align: right;\">\n",
       "      <th></th>\n",
       "      <th>age</th>\n",
       "      <th>sex</th>\n",
       "      <th>cp</th>\n",
       "      <th>trestbps</th>\n",
       "      <th>chol</th>\n",
       "      <th>fbs</th>\n",
       "      <th>restecg</th>\n",
       "      <th>thalach</th>\n",
       "      <th>exang</th>\n",
       "      <th>oldpeak</th>\n",
       "      <th>slope</th>\n",
       "      <th>ca</th>\n",
       "      <th>thal</th>\n",
       "      <th>target</th>\n",
       "    </tr>\n",
       "  </thead>\n",
       "  <tbody>\n",
       "    <tr>\n",
       "      <th>0</th>\n",
       "      <td>63</td>\n",
       "      <td>1</td>\n",
       "      <td>3</td>\n",
       "      <td>145</td>\n",
       "      <td>233</td>\n",
       "      <td>1</td>\n",
       "      <td>0</td>\n",
       "      <td>150</td>\n",
       "      <td>0</td>\n",
       "      <td>2.3</td>\n",
       "      <td>0</td>\n",
       "      <td>0</td>\n",
       "      <td>1</td>\n",
       "      <td>1</td>\n",
       "    </tr>\n",
       "    <tr>\n",
       "      <th>1</th>\n",
       "      <td>37</td>\n",
       "      <td>1</td>\n",
       "      <td>2</td>\n",
       "      <td>130</td>\n",
       "      <td>250</td>\n",
       "      <td>0</td>\n",
       "      <td>1</td>\n",
       "      <td>187</td>\n",
       "      <td>0</td>\n",
       "      <td>3.5</td>\n",
       "      <td>0</td>\n",
       "      <td>0</td>\n",
       "      <td>2</td>\n",
       "      <td>1</td>\n",
       "    </tr>\n",
       "    <tr>\n",
       "      <th>2</th>\n",
       "      <td>41</td>\n",
       "      <td>0</td>\n",
       "      <td>1</td>\n",
       "      <td>130</td>\n",
       "      <td>204</td>\n",
       "      <td>0</td>\n",
       "      <td>0</td>\n",
       "      <td>172</td>\n",
       "      <td>0</td>\n",
       "      <td>1.4</td>\n",
       "      <td>2</td>\n",
       "      <td>0</td>\n",
       "      <td>2</td>\n",
       "      <td>1</td>\n",
       "    </tr>\n",
       "    <tr>\n",
       "      <th>3</th>\n",
       "      <td>56</td>\n",
       "      <td>1</td>\n",
       "      <td>1</td>\n",
       "      <td>120</td>\n",
       "      <td>236</td>\n",
       "      <td>0</td>\n",
       "      <td>1</td>\n",
       "      <td>178</td>\n",
       "      <td>0</td>\n",
       "      <td>0.8</td>\n",
       "      <td>2</td>\n",
       "      <td>0</td>\n",
       "      <td>2</td>\n",
       "      <td>1</td>\n",
       "    </tr>\n",
       "    <tr>\n",
       "      <th>4</th>\n",
       "      <td>57</td>\n",
       "      <td>0</td>\n",
       "      <td>0</td>\n",
       "      <td>120</td>\n",
       "      <td>354</td>\n",
       "      <td>0</td>\n",
       "      <td>1</td>\n",
       "      <td>163</td>\n",
       "      <td>1</td>\n",
       "      <td>0.6</td>\n",
       "      <td>2</td>\n",
       "      <td>0</td>\n",
       "      <td>2</td>\n",
       "      <td>1</td>\n",
       "    </tr>\n",
       "  </tbody>\n",
       "</table>\n",
       "</div>"
      ],
      "text/plain": [
       "   age  sex  cp  trestbps  chol  fbs  restecg  thalach  exang  oldpeak  slope  \\\n",
       "0   63    1   3       145   233    1        0      150      0      2.3      0   \n",
       "1   37    1   2       130   250    0        1      187      0      3.5      0   \n",
       "2   41    0   1       130   204    0        0      172      0      1.4      2   \n",
       "3   56    1   1       120   236    0        1      178      0      0.8      2   \n",
       "4   57    0   0       120   354    0        1      163      1      0.6      2   \n",
       "\n",
       "   ca  thal  target  \n",
       "0   0     1       1  \n",
       "1   0     2       1  \n",
       "2   0     2       1  \n",
       "3   0     2       1  \n",
       "4   0     2       1  "
      ]
     },
     "execution_count": 64,
     "metadata": {},
     "output_type": "execute_result"
    }
   ],
   "source": [
    "df.head()"
   ]
  },
  {
   "cell_type": "code",
   "execution_count": 65,
   "id": "72d3de7d-83d1-4ba1-bbf0-19dc2483d777",
   "metadata": {},
   "outputs": [
    {
     "data": {
      "text/plain": [
       "{'age': 0.0010835306989882775,\n",
       " 'sex': -1.4803002836187253,\n",
       " 'cp': 0.7312970447061403,\n",
       " 'trestbps': -0.017763108465551732,\n",
       " 'chol': -0.0017292180729839921,\n",
       " 'fbs': 0.6794527551782265,\n",
       " 'restecg': 0.8747957166726719,\n",
       " 'thalach': 0.031092743540269356,\n",
       " 'exang': -0.9475326462328827,\n",
       " 'oldpeak': -0.4518561490963872,\n",
       " 'slope': 0.37359560674497017,\n",
       " 'ca': -0.6589272304418844,\n",
       " 'thal': -0.9473035946601327}"
      ]
     },
     "execution_count": 65,
     "metadata": {},
     "output_type": "execute_result"
    }
   ],
   "source": [
    "# Match coef's of features to columns\n",
    "feature_dict = dict(zip(df.columns,list(clf.coef_[0])))\n",
    "feature_dict"
   ]
  },
  {
   "cell_type": "code",
   "execution_count": 66,
   "id": "810cbf36-da84-4133-828d-c4480d0cae7e",
   "metadata": {},
   "outputs": [
    {
     "data": {
      "image/png": "[encoded data removed]",
      "text/plain": [
       "<Figure size 640x480 with 1 Axes>"
      ]
     },
     "metadata": {},
     "output_type": "display_data"
    }
   ],
   "source": [
    "# Visualize feature importance\n",
    "feature_df = pd.DataFrame(feature_dict,index=[0])\n",
    "feature_df.T.plot.bar(legend=False,title=\"Feature Importance\");"
   ]
  },
  {
   "cell_type": "code",
   "execution_count": 67,
   "id": "9eea48d7-16bc-491c-99fe-342da01cfa81",
   "metadata": {},
   "outputs": [
    {
     "data": {
      "text/html": [
       "<div>\n",
       "<style scoped>\n",
       "    .dataframe tbody tr th:only-of-type {\n",
       "        vertical-align: middle;\n",
       "    }\n",
       "\n",
       "    .dataframe tbody tr th {\n",
       "        vertical-align: top;\n",
       "    }\n",
       "\n",
       "    .dataframe thead th {\n",
       "        text-align: right;\n",
       "    }\n",
       "</style>\n",
       "<table border=\"1\" class=\"dataframe\">\n",
       "  <thead>\n",
       "    <tr style=\"text-align: right;\">\n",
       "      <th>target</th>\n",
       "      <th>0</th>\n",
       "      <th>1</th>\n",
       "    </tr>\n",
       "    <tr>\n",
       "      <th>sex</th>\n",
       "      <th></th>\n",
       "      <th></th>\n",
       "    </tr>\n",
       "  </thead>\n",
       "  <tbody>\n",
       "    <tr>\n",
       "      <th>0</th>\n",
       "      <td>24</td>\n",
       "      <td>72</td>\n",
       "    </tr>\n",
       "    <tr>\n",
       "      <th>1</th>\n",
       "      <td>114</td>\n",
       "      <td>93</td>\n",
       "    </tr>\n",
       "  </tbody>\n",
       "</table>\n",
       "</div>"
      ],
      "text/plain": [
       "target    0   1\n",
       "sex            \n",
       "0        24  72\n",
       "1       114  93"
      ]
     },
     "execution_count": 67,
     "metadata": {},
     "output_type": "execute_result"
    }
   ],
   "source": [
    "pd.crosstab(df[\"sex\"],df[\"target\"])"
   ]
  },
  {
   "cell_type": "code",
   "execution_count": 68,
   "id": "df99f6f8-a5ef-4e0e-824f-e8e6657fe50f",
   "metadata": {},
   "outputs": [
    {
     "data": {
      "text/html": [
       "<div>\n",
       "<style scoped>\n",
       "    .dataframe tbody tr th:only-of-type {\n",
       "        vertical-align: middle;\n",
       "    }\n",
       "\n",
       "    .dataframe tbody tr th {\n",
       "        vertical-align: top;\n",
       "    }\n",
       "\n",
       "    .dataframe thead th {\n",
       "        text-align: right;\n",
       "    }\n",
       "</style>\n",
       "<table border=\"1\" class=\"dataframe\">\n",
       "  <thead>\n",
       "    <tr style=\"text-align: right;\">\n",
       "      <th>target</th>\n",
       "      <th>0</th>\n",
       "      <th>1</th>\n",
       "    </tr>\n",
       "    <tr>\n",
       "      <th>slope</th>\n",
       "      <th></th>\n",
       "      <th></th>\n",
       "    </tr>\n",
       "  </thead>\n",
       "  <tbody>\n",
       "    <tr>\n",
       "      <th>0</th>\n",
       "      <td>12</td>\n",
       "      <td>9</td>\n",
       "    </tr>\n",
       "    <tr>\n",
       "      <th>1</th>\n",
       "      <td>91</td>\n",
       "      <td>49</td>\n",
       "    </tr>\n",
       "    <tr>\n",
       "      <th>2</th>\n",
       "      <td>35</td>\n",
       "      <td>107</td>\n",
       "    </tr>\n",
       "  </tbody>\n",
       "</table>\n",
       "</div>"
      ],
      "text/plain": [
       "target   0    1\n",
       "slope          \n",
       "0       12    9\n",
       "1       91   49\n",
       "2       35  107"
      ]
     },
     "execution_count": 68,
     "metadata": {},
     "output_type": "execute_result"
    }
   ],
   "source": [
    "pd.crosstab(df[\"slope\"],df[\"target\"])"
   ]
  },
  {
   "cell_type": "markdown",
   "id": "89a5c778-0bc8-417c-bc33-6305896d3743",
   "metadata": {},
   "source": [
    "slope - the slope of the peak excercise ST segment\n",
    "\n",
    "- 0: Upsloping: better heart rate with excercise(uncommon)\n",
    "- 1: Flatsloping: minimal change (typical health heart)\n",
    "- 2: Downsloping: signs of unhealthy heart"
   ]
  },
  {
   "cell_type": "markdown",
   "id": "3cff2c6c-faa3-493a-b304-b448f5307506",
   "metadata": {},
   "source": [
    "## 6. Experimentation\n",
    "\n",
    "If our model does'nt hit evaluation matrix yet.. ask yourself the following questions..\n",
    "\n",
    "- Could you collect more data?\n",
    "- Could you try better model? Like CatBoost or XGBoost?\n",
    "- Could you improve the current models? (beyond what we have done so far)\n",
    "- If your model is good enough(you have hit your evaluation metrics) how would you export it and share it with others?"
   ]
  },
  {
   "cell_type": "code",
   "execution_count": null,
   "id": "bb00f3ee-dafe-4884-9907-77aa3bb562d1",
   "metadata": {},
   "outputs": [],
   "source": []
  }
 ],
 "metadata": {
  "@deathbeds/jupyterlab-fonts": {
   "fontLicenses": {
    "Fira Code Medium": {
     "holders": [
      "Copyright (c) 2014, Nikita Prokopov http://tonsky.me with Reserved Font Name Fira Code.",
      "Copyright (c) 2014, Mozilla Foundation https://mozilla.org/ with Reserved Font Name Fira Sans.",
      "Copyright (c) 2014, Mozilla Foundation https://mozilla.org/ with Reserved Font Name Fira Mono.",
      "Copyright (c) 2014, Telefonica S.A."
     ],
     "name": "SIL Open Font License 1.1",
     "spdx": "OFL-1.1",
     "text": "Copyright (c) 2014, The Fira Code Project Authors (https://github.com/tonsky/FiraCode)\n\nThis Font Software is licensed under the SIL Open Font License, Version 1.1.\nThis license is copied below, and is also available with a FAQ at:\nhttp://scripts.sil.org/OFL\n\n\n-----------------------------------------------------------\nSIL OPEN FONT LICENSE Version 1.1 - 26 February 2007\n-----------------------------------------------------------\n\nPREAMBLE\nThe goals of the Open Font License (OFL) are to stimulate worldwide\ndevelopment of collaborative font projects, to support the font creation\nefforts of academic and linguistic communities, and to provide a free and\nopen framework in which fonts may be shared and improved in partnership\nwith others.\n\nThe OFL allows the licensed fonts to be used, studied, modified and\nredistributed freely as long as they are not sold by themselves. The\nfonts, including any derivative works, can be bundled, embedded,\nredistributed and/or sold with any software provided that any reserved\nnames are not used by derivative works. The fonts and derivatives,\nhowever, cannot be released under any other type of license. The\nrequirement for fonts to remain under this license does not apply\nto any document created using the fonts or their derivatives.\n\nDEFINITIONS\n\"Font Software\" refers to the set of files released by the Copyright\nHolder(s) under this license and clearly marked as such. This may\ninclude source files, build scripts and documentation.\n\n\"Reserved Font Name\" refers to any names specified as such after the\ncopyright statement(s).\n\n\"Original Version\" refers to the collection of Font Software components as\ndistributed by the Copyright Holder(s).\n\n\"Modified Version\" refers to any derivative made by adding to, deleting,\nor substituting -- in part or in whole -- any of the components of the\nOriginal Version, by changing formats or by porting the Font Software to a\nnew environment.\n\n\"Author\" refers to any designer, engineer, programmer, technical\nwriter or other person who contributed to the Font Software.\n\nPERMISSION & CONDITIONS\nPermission is hereby granted, free of charge, to any person obtaining\na copy of the Font Software, to use, study, copy, merge, embed, modify,\nredistribute, and sell modified and unmodified copies of the Font\nSoftware, subject to the following conditions:\n\n1) Neither the Font Software nor any of its individual components,\nin Original or Modified Versions, may be sold by itself.\n\n2) Original or Modified Versions of the Font Software may be bundled,\nredistributed and/or sold with any software, provided that each copy\ncontains the above copyright notice and this license. These can be\nincluded either as stand-alone text files, human-readable headers or\nin the appropriate machine-readable metadata fields within text or\nbinary files as long as those fields can be easily viewed by the user.\n\n3) No Modified Version of the Font Software may use the Reserved Font\nName(s) unless explicit written permission is granted by the corresponding\nCopyright Holder. This restriction only applies to the primary font name as\npresented to the users.\n\n4) The name(s) of the Copyright Holder(s) or the Author(s) of the Font\nSoftware shall not be used to promote, endorse or advertise any\nModified Version, except to acknowledge the contribution(s) of the\nCopyright Holder(s) and the Author(s) or with their explicit written\npermission.\n\n5) The Font Software, modified or unmodified, in part or in whole,\nmust be distributed entirely under this license, and must not be\ndistributed under any other license. The requirement for fonts to\nremain under this license does not apply to any document created\nusing the Font Software.\n\nTERMINATION\nThis license becomes null and void if any of the above conditions are\nnot met.\n\nDISCLAIMER\nTHE FONT SOFTWARE IS PROVIDED \"AS IS\", WITHOUT WARRANTY OF ANY KIND,\nEXPRESS OR IMPLIED, INCLUDING BUT NOT LIMITED TO ANY WARRANTIES OF\nMERCHANTABILITY, FITNESS FOR A PARTICULAR PURPOSE AND NONINFRINGEMENT\nOF COPYRIGHT, PATENT, TRADEMARK, OR OTHER RIGHT. IN NO EVENT SHALL THE\nCOPYRIGHT HOLDER BE LIABLE FOR ANY CLAIM, DAMAGES OR OTHER LIABILITY,\nINCLUDING ANY GENERAL, SPECIAL, INDIRECT, INCIDENTAL, OR CONSEQUENTIAL\nDAMAGES, WHETHER IN AN ACTION OF CONTRACT, TORT OR OTHERWISE, ARISING\nFROM, OUT OF THE USE OR INABILITY TO USE THE FONT SOFTWARE OR FROM\nOTHER DEALINGS IN THE FONT SOFTWARE.\n"
    }
   },
   "fonts": {
    "Fira Code Medium": [
     {
      "font-family": "Fira Code Medium",
      "src": "url('data:font/woff2;charset=utf-8;base64,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') format('woff2')"
     }
    ]
   },
   "styles": {
    ":root": {
     "--jp-code-font-family": "'Fira Code Medium'"
    }
   }
  },
  "kernelspec": {
   "display_name": "Python 3 (ipykernel)",
   "language": "python",
   "name": "python3"
  },
  "language_info": {
   "codemirror_mode": {
    "name": "ipython",
    "version": 3
   },
   "file_extension": ".py",
   "mimetype": "text/x-python",
   "name": "python",
   "nbconvert_exporter": "python",
   "pygments_lexer": "ipython3",
   "version": "3.12.2"
  },
  "widgets": {
   "application/vnd.jupyter.widget-state+json": {
    "state": {},
    "version_major": 2,
    "version_minor": 0
   }
  }
 },
 "nbformat": 4,
 "nbformat_minor": 5
}
